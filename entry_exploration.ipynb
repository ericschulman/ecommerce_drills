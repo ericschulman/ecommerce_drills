{
 "cells": [
  {
   "cell_type": "markdown",
   "metadata": {},
   "source": [
    "Import data into the notebook"
   ]
  },
  {
   "cell_type": "code",
   "execution_count": 1,
   "metadata": {},
   "outputs": [],
   "source": [
    "import pandas as pd #package for reading data\n",
    "import numpy as np \n",
    "import matplotlib.pyplot as plt #package for creating plots\n",
    "import statsmodels.api as sm"
   ]
  },
  {
   "cell_type": "code",
   "execution_count": 2,
   "metadata": {},
   "outputs": [
    {
     "name": "stdout",
     "output_type": "stream",
     "text": [
      "                HD        state          LO     state.1          time  \\\n",
      "count  1584.000000  1584.000000  633.000000  633.000000  1.584000e+03   \n",
      "mean      1.254419    27.139520    1.273302   28.050553  1.597122e+09   \n",
      "std       0.994765    16.299669    0.816870   16.530868  3.313120e+04   \n",
      "min       1.000000     1.000000    1.000000    1.000000  1.597100e+09   \n",
      "25%       1.000000    12.000000    1.000000   12.000000  1.597100e+09   \n",
      "50%       1.000000    26.000000    1.000000   29.000000  1.597101e+09   \n",
      "75%       1.000000    41.000000    1.000000   45.000000  1.597172e+09   \n",
      "max      19.000000    78.000000   10.000000   56.000000  1.597174e+09   \n",
      "\n",
      "             STATE       STATENS    population      under44_1      under44_2  \\\n",
      "count  1584.000000  1.584000e+03  1.449000e+03    1443.000000    1443.000000   \n",
      "mean     27.139520  1.503874e+06  6.947162e+04    7389.017325   10960.044352   \n",
      "std      16.299669  4.924067e+05  1.463462e+05   15760.371513   26923.922447   \n",
      "min       1.000000  6.808500e+04  0.000000e+00       0.000000       0.000000   \n",
      "25%      12.000000  1.423460e+06  1.290900e+04    1053.500000    1680.500000   \n",
      "50%      26.000000  1.779779e+06  3.084000e+04    2869.000000    4164.000000   \n",
      "75%      41.000000  1.779796e+06  7.339200e+04    7011.000000   10665.500000   \n",
      "max      78.000000  1.802710e+06  2.718555e+06  276678.000000  536817.000000   \n",
      "\n",
      "       ...      older65_1     older_65_2  income_per_capita  \\\n",
      "count  ...    1443.000000    1443.000000       1.448000e+03   \n",
      "mean   ...    5274.621622    3868.282744      -8.887592e+05   \n",
      "std    ...   10172.375471    7216.404521       2.476910e+07   \n",
      "min    ...       0.000000       0.000000      -6.666667e+08   \n",
      "25%    ...    1089.000000     848.500000       2.434625e+04   \n",
      "50%    ...    2502.000000    1925.000000       2.967400e+04   \n",
      "75%    ...    5736.000000    4398.000000       3.708300e+04   \n",
      "max    ...  189225.000000  137757.000000       2.164160e+05   \n",
      "\n",
      "       industrial_managers  construction_managers  farmers  realestate  \\\n",
      "count                  0.0                    0.0      0.0         0.0   \n",
      "mean                   NaN                    NaN      NaN         NaN   \n",
      "std                    NaN                    NaN      NaN         NaN   \n",
      "min                    NaN                    NaN      NaN         NaN   \n",
      "25%                    NaN                    NaN      NaN         NaN   \n",
      "50%                    NaN                    NaN      NaN         NaN   \n",
      "75%                    NaN                    NaN      NaN         NaN   \n",
      "max                    NaN                    NaN      NaN         NaN   \n",
      "\n",
      "       construction_workers      state:1         place  \n",
      "count                   0.0  1449.000000   1449.000000  \n",
      "mean                    NaN    26.833678  42784.766736  \n",
      "std                     NaN    16.377558  24245.217783  \n",
      "min                     NaN     1.000000    100.000000  \n",
      "25%                     NaN    12.000000  21796.000000  \n",
      "50%                     NaN    26.000000  43930.000000  \n",
      "75%                     NaN    41.000000  62546.000000  \n",
      "max                     NaN    72.000000  89140.000000  \n",
      "\n",
      "[8 rows x 21 columns]\n"
     ]
    }
   ],
   "source": [
    "data_folder = \"data/\"\n",
    "entry = pd.read_csv(data_folder + \"entry.csv\")\n",
    "print(entry.describe())"
   ]
  },
  {
   "cell_type": "markdown",
   "metadata": {},
   "source": [
    "How many Home Depots/Lowe's are there in total"
   ]
  },
  {
   "cell_type": "code",
   "execution_count": 3,
   "metadata": {},
   "outputs": [
    {
     "data": {
      "text/plain": [
       "1987"
      ]
     },
     "execution_count": 3,
     "metadata": {},
     "output_type": "execute_result"
    }
   ],
   "source": [
    "# number of Home Depot stores\n",
    "entry['HD'].sum()"
   ]
  },
  {
   "cell_type": "code",
   "execution_count": 4,
   "metadata": {},
   "outputs": [
    {
     "data": {
      "text/plain": [
       "806.0"
      ]
     },
     "execution_count": 4,
     "metadata": {},
     "output_type": "execute_result"
    }
   ],
   "source": [
    "# number of Lowe's stores\n",
    "entry['LO'].sum()"
   ]
  },
  {
   "cell_type": "markdown",
   "metadata": {},
   "source": [
    "Which State had the most new openings in this time period? For each store, and then both?"
   ]
  },
  {
   "cell_type": "code",
   "execution_count": 5,
   "metadata": {},
   "outputs": [
    {
     "data": {
      "text/html": [
       "<div>\n",
       "<style scoped>\n",
       "    .dataframe tbody tr th:only-of-type {\n",
       "        vertical-align: middle;\n",
       "    }\n",
       "\n",
       "    .dataframe tbody tr th {\n",
       "        vertical-align: top;\n",
       "    }\n",
       "\n",
       "    .dataframe thead th {\n",
       "        text-align: right;\n",
       "    }\n",
       "</style>\n",
       "<table border=\"1\" class=\"dataframe\">\n",
       "  <thead>\n",
       "    <tr style=\"text-align: right;\">\n",
       "      <th></th>\n",
       "      <th>sum_column</th>\n",
       "    </tr>\n",
       "    <tr>\n",
       "      <th>STUSAB</th>\n",
       "      <th></th>\n",
       "    </tr>\n",
       "  </thead>\n",
       "  <tbody>\n",
       "    <tr>\n",
       "      <th>CA</th>\n",
       "      <td>301.0</td>\n",
       "    </tr>\n",
       "  </tbody>\n",
       "</table>\n",
       "</div>"
      ],
      "text/plain": [
       "        sum_column\n",
       "STUSAB            \n",
       "CA           301.0"
      ]
     },
     "execution_count": 5,
     "metadata": {},
     "output_type": "execute_result"
    }
   ],
   "source": [
    "# state with most new openings for both HD and LOW\n",
    "entry['sum_column'] = entry.fillna(0)['HD'] + entry.fillna(0)['LO']\n",
    "most_openings_all = pd.DataFrame(entry.groupby('STUSAB')['sum_column'].sum().sort_values(ascending = False))\n",
    "most_openings_all.head(1)"
   ]
  },
  {
   "cell_type": "code",
   "execution_count": 6,
   "metadata": {},
   "outputs": [
    {
     "data": {
      "text/html": [
       "<div>\n",
       "<style scoped>\n",
       "    .dataframe tbody tr th:only-of-type {\n",
       "        vertical-align: middle;\n",
       "    }\n",
       "\n",
       "    .dataframe tbody tr th {\n",
       "        vertical-align: top;\n",
       "    }\n",
       "\n",
       "    .dataframe thead th {\n",
       "        text-align: right;\n",
       "    }\n",
       "</style>\n",
       "<table border=\"1\" class=\"dataframe\">\n",
       "  <thead>\n",
       "    <tr style=\"text-align: right;\">\n",
       "      <th></th>\n",
       "      <th>HD</th>\n",
       "    </tr>\n",
       "    <tr>\n",
       "      <th>STUSAB</th>\n",
       "      <th></th>\n",
       "    </tr>\n",
       "  </thead>\n",
       "  <tbody>\n",
       "    <tr>\n",
       "      <th>CA</th>\n",
       "      <td>233</td>\n",
       "    </tr>\n",
       "  </tbody>\n",
       "</table>\n",
       "</div>"
      ],
      "text/plain": [
       "         HD\n",
       "STUSAB     \n",
       "CA      233"
      ]
     },
     "execution_count": 6,
     "metadata": {},
     "output_type": "execute_result"
    }
   ],
   "source": [
    "# state with most new openings for HD\n",
    "most_openings_HD = pd.DataFrame(entry.groupby('STUSAB')['HD'].sum())\n",
    "most_openings_HD.sort_values('HD', ascending = False).drop_duplicates().head(1)"
   ]
  },
  {
   "cell_type": "code",
   "execution_count": 7,
   "metadata": {},
   "outputs": [
    {
     "data": {
      "text/html": [
       "<div>\n",
       "<style scoped>\n",
       "    .dataframe tbody tr th:only-of-type {\n",
       "        vertical-align: middle;\n",
       "    }\n",
       "\n",
       "    .dataframe tbody tr th {\n",
       "        vertical-align: top;\n",
       "    }\n",
       "\n",
       "    .dataframe thead th {\n",
       "        text-align: right;\n",
       "    }\n",
       "</style>\n",
       "<table border=\"1\" class=\"dataframe\">\n",
       "  <thead>\n",
       "    <tr style=\"text-align: right;\">\n",
       "      <th></th>\n",
       "      <th>LO</th>\n",
       "    </tr>\n",
       "    <tr>\n",
       "      <th>STUSAB</th>\n",
       "      <th></th>\n",
       "    </tr>\n",
       "  </thead>\n",
       "  <tbody>\n",
       "    <tr>\n",
       "      <th>TX</th>\n",
       "      <td>101.0</td>\n",
       "    </tr>\n",
       "  </tbody>\n",
       "</table>\n",
       "</div>"
      ],
      "text/plain": [
       "           LO\n",
       "STUSAB       \n",
       "TX      101.0"
      ]
     },
     "execution_count": 7,
     "metadata": {},
     "output_type": "execute_result"
    }
   ],
   "source": [
    "# state with most new openings for LO\n",
    "most_openings_HD = pd.DataFrame(entry.groupby('STUSAB')['LO'].sum())\n",
    "most_openings_HD.sort_values('LO', ascending = False).drop_duplicates().head(1)"
   ]
  },
  {
   "cell_type": "markdown",
   "metadata": {},
   "source": [
    "Are the location decisions of Lowe's and Home Depot Correlated? Create a scatter plot with Lowe's and Home Depot's entry decisions. Also report the correlation. Fill NAs with 0s."
   ]
  },
  {
   "cell_type": "code",
   "execution_count": 8,
   "metadata": {},
   "outputs": [
    {
     "data": {
      "text/plain": [
       "<matplotlib.collections.PathCollection at 0x7fb8e0909700>"
      ]
     },
     "execution_count": 8,
     "metadata": {},
     "output_type": "execute_result"
    },
    {
     "data": {
      "image/png": "[encoded data removed]",
      "text/plain": [
       "<Figure size 432x288 with 1 Axes>"
      ]
     },
     "metadata": {
      "needs_background": "light"
     },
     "output_type": "display_data"
    }
   ],
   "source": [
    "# scatterplot\n",
    "plt.scatter(entry['HD'], entry['LO'],alpha =.3)"
   ]
  },
  {
   "cell_type": "code",
   "execution_count": 9,
   "metadata": {},
   "outputs": [
    {
     "data": {
      "text/plain": [
       "0.6639"
      ]
     },
     "execution_count": 9,
     "metadata": {},
     "output_type": "execute_result"
    }
   ],
   "source": [
    "# correlation\n",
    "round(entry['HD'].corr(entry['LO']), 4)"
   ]
  },
  {
   "cell_type": "markdown",
   "metadata": {},
   "source": [
    "What happens if you control for population? Create a variance covariance matrix with the following variables. \n",
    "* Lowe's entry\n",
    "* Home Depot entry\n",
    "* Population\n",
    "* Per Capita Income"
   ]
  },
  {
   "cell_type": "code",
   "execution_count": 10,
   "metadata": {},
   "outputs": [
    {
     "data": {
      "text/html": [
       "<div>\n",
       "<style scoped>\n",
       "    .dataframe tbody tr th:only-of-type {\n",
       "        vertical-align: middle;\n",
       "    }\n",
       "\n",
       "    .dataframe tbody tr th {\n",
       "        vertical-align: top;\n",
       "    }\n",
       "\n",
       "    .dataframe thead th {\n",
       "        text-align: right;\n",
       "    }\n",
       "</style>\n",
       "<table border=\"1\" class=\"dataframe\">\n",
       "  <thead>\n",
       "    <tr style=\"text-align: right;\">\n",
       "      <th></th>\n",
       "      <th>LO</th>\n",
       "      <th>HD</th>\n",
       "      <th>population</th>\n",
       "      <th>income_per_capita</th>\n",
       "    </tr>\n",
       "  </thead>\n",
       "  <tbody>\n",
       "    <tr>\n",
       "      <th>LO</th>\n",
       "      <td>0.667277</td>\n",
       "      <td>0.760089</td>\n",
       "      <td>1.100259e+05</td>\n",
       "      <td>6.425281e+05</td>\n",
       "    </tr>\n",
       "    <tr>\n",
       "      <th>HD</th>\n",
       "      <td>0.760089</td>\n",
       "      <td>0.989557</td>\n",
       "      <td>9.201187e+04</td>\n",
       "      <td>2.432808e+05</td>\n",
       "    </tr>\n",
       "    <tr>\n",
       "      <th>population</th>\n",
       "      <td>110025.905071</td>\n",
       "      <td>92011.867012</td>\n",
       "      <td>2.141720e+10</td>\n",
       "      <td>6.405249e+10</td>\n",
       "    </tr>\n",
       "    <tr>\n",
       "      <th>income_per_capita</th>\n",
       "      <td>642528.117808</td>\n",
       "      <td>243280.780117</td>\n",
       "      <td>6.405249e+10</td>\n",
       "      <td>6.135085e+14</td>\n",
       "    </tr>\n",
       "  </tbody>\n",
       "</table>\n",
       "</div>"
      ],
      "text/plain": [
       "                              LO             HD    population  \\\n",
       "LO                      0.667277       0.760089  1.100259e+05   \n",
       "HD                      0.760089       0.989557  9.201187e+04   \n",
       "population         110025.905071   92011.867012  2.141720e+10   \n",
       "income_per_capita  642528.117808  243280.780117  6.405249e+10   \n",
       "\n",
       "                   income_per_capita  \n",
       "LO                      6.425281e+05  \n",
       "HD                      2.432808e+05  \n",
       "population              6.405249e+10  \n",
       "income_per_capita       6.135085e+14  "
      ]
     },
     "execution_count": 10,
     "metadata": {},
     "output_type": "execute_result"
    }
   ],
   "source": [
    "entry[['LO', 'HD', 'population', 'income_per_capita']].cov()"
   ]
  },
  {
   "cell_type": "markdown",
   "metadata": {},
   "source": [
    "Also create scatter plots with number of stores and population."
   ]
  },
  {
   "cell_type": "code",
   "execution_count": 11,
   "metadata": {},
   "outputs": [
    {
     "data": {
      "text/plain": [
       "<matplotlib.collections.PathCollection at 0x7fb8e08d6fa0>"
      ]
     },
     "execution_count": 11,
     "metadata": {},
     "output_type": "execute_result"
    },
    {
     "data": {
      "image/png": "[encoded data removed]",
      "text/plain": [
       "<Figure size 432x288 with 1 Axes>"
      ]
     },
     "metadata": {
      "needs_background": "light"
     },
     "output_type": "display_data"
    }
   ],
   "source": [
    "# scatterplot\n",
    "plt.scatter(entry['sum_column'], entry['population'],alpha =.3)"
   ]
  },
  {
   "cell_type": "code",
   "execution_count": null,
   "metadata": {},
   "outputs": [],
   "source": []
  }
 ],
 "metadata": {
  "kernelspec": {
   "display_name": "Python 3 (ipykernel)",
   "language": "python",
   "name": "python3"
  },
  "language_info": {
   "codemirror_mode": {
    "name": "ipython",
    "version": 3
   },
   "file_extension": ".py",
   "mimetype": "text/x-python",
   "name": "python",
   "nbconvert_exporter": "python",
   "pygments_lexer": "ipython3",
   "version": "3.9.7"
  }
 },
 "nbformat": 4,
 "nbformat_minor": 2
}
