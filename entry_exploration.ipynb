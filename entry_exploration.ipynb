{
 "cells": [
  {
   "cell_type": "markdown",
   "metadata": {},
   "source": [
    "Import data into the notebook"
   ]
  },
  {
   "cell_type": "code",
   "execution_count": 1,
   "metadata": {},
   "outputs": [],
   "source": [
    "import pandas as pd #package for reading data\n",
    "import numpy as np \n",
    "import matplotlib.pyplot as plt #package for creating plots\n",
    "import statsmodels.api as sm"
   ]
  },
  {
   "cell_type": "code",
   "execution_count": 2,
   "metadata": {},
   "outputs": [
    {
     "name": "stdout",
     "output_type": "stream",
     "text": [
      "                HD           LO         place  income_per_capita  \\\n",
      "count  1584.000000  1206.000000   1938.000000        1938.000000   \n",
      "mean      1.254419     1.148425  42263.570175       30886.971104   \n",
      "std       0.994765     0.610035  24178.680990       10770.289255   \n",
      "min       1.000000     1.000000    100.000000       10223.000000   \n",
      "25%       1.000000     1.000000  21747.500000       23593.000000   \n",
      "50%       1.000000     1.000000  42929.000000       28558.000000   \n",
      "75%       1.000000     1.000000  62314.750000       35726.500000   \n",
      "max      19.000000    10.000000  89140.000000      114845.000000   \n",
      "\n",
      "         population      under44_1     under44_2     under44_3      older65_1  \\\n",
      "count  1.938000e+03    1932.000000  1.932000e+03  1.932000e+03    1932.000000   \n",
      "mean   7.407214e+04    7866.438923  1.178557e+04  9.677448e+03    5656.567288   \n",
      "std    2.564409e+05   24996.411342  4.626534e+04  3.540430e+04   19142.172811   \n",
      "min    3.570000e+02       0.000000  0.000000e+00  0.000000e+00      16.000000   \n",
      "25%    1.385150e+04    1184.000000  1.829750e+03  1.606500e+03    1180.500000   \n",
      "50%    3.005850e+04    2918.000000  4.122000e+03  3.726000e+03    2442.000000   \n",
      "75%    6.753950e+04    6779.250000  9.754000e+03  8.702000e+03    5428.500000   \n",
      "max    8.443713e+06  753644.000000  1.504279e+06  1.156416e+06  664818.000000   \n",
      "\n",
      "          older_65_2  \n",
      "count    1932.000000  \n",
      "mean     4234.653209  \n",
      "std     14693.523917  \n",
      "min         0.000000  \n",
      "25%       925.000000  \n",
      "50%      1930.000000  \n",
      "75%      4129.250000  \n",
      "max    524543.000000  \n"
     ]
    }
   ],
   "source": [
    "data_folder = \"drills_data/\"\n",
    "entry = pd.read_csv(data_folder + \"entry.csv\")\n",
    "print(entry.describe())"
   ]
  },
  {
   "cell_type": "markdown",
   "metadata": {},
   "source": [
    "How many Home Depots/Lowe's are there in total"
   ]
  },
  {
   "cell_type": "code",
   "execution_count": 3,
   "metadata": {},
   "outputs": [
    {
     "data": {
      "text/plain": [
       "1987.0"
      ]
     },
     "execution_count": 3,
     "metadata": {},
     "output_type": "execute_result"
    }
   ],
   "source": [
    "# number of Home Depot stores\n",
    "entry['HD'].sum()"
   ]
  },
  {
   "cell_type": "code",
   "execution_count": 4,
   "metadata": {},
   "outputs": [
    {
     "data": {
      "text/plain": [
       "1385.0"
      ]
     },
     "execution_count": 4,
     "metadata": {},
     "output_type": "execute_result"
    }
   ],
   "source": [
    "# number of Lowe's stores\n",
    "entry['LO'].sum()"
   ]
  },
  {
   "cell_type": "markdown",
   "metadata": {},
   "source": [
    "Which State had the most new openings in this time period? For each store, and then both?"
   ]
  },
  {
   "cell_type": "code",
   "execution_count": 5,
   "metadata": {},
   "outputs": [
    {
     "data": {
      "text/html": [
       "<div>\n",
       "<style scoped>\n",
       "    .dataframe tbody tr th:only-of-type {\n",
       "        vertical-align: middle;\n",
       "    }\n",
       "\n",
       "    .dataframe tbody tr th {\n",
       "        vertical-align: top;\n",
       "    }\n",
       "\n",
       "    .dataframe thead th {\n",
       "        text-align: right;\n",
       "    }\n",
       "</style>\n",
       "<table border=\"1\" class=\"dataframe\">\n",
       "  <thead>\n",
       "    <tr style=\"text-align: right;\">\n",
       "      <th></th>\n",
       "      <th>sum_column</th>\n",
       "    </tr>\n",
       "    <tr>\n",
       "      <th>STUSAB</th>\n",
       "      <th></th>\n",
       "    </tr>\n",
       "  </thead>\n",
       "  <tbody>\n",
       "    <tr>\n",
       "      <td>CA</td>\n",
       "      <td>324.0</td>\n",
       "    </tr>\n",
       "  </tbody>\n",
       "</table>\n",
       "</div>"
      ],
      "text/plain": [
       "        sum_column\n",
       "STUSAB            \n",
       "CA           324.0"
      ]
     },
     "execution_count": 5,
     "metadata": {},
     "output_type": "execute_result"
    }
   ],
   "source": [
    "# state with most new openings for both HD and LOW\n",
    "entry['sum_column'] = entry.fillna(0)['HD'] + entry.fillna(0)['LO']\n",
    "most_openings_all = pd.DataFrame(entry.groupby('STUSAB')['sum_column'].sum().sort_values(ascending = False))\n",
    "most_openings_all.head(1)"
   ]
  },
  {
   "cell_type": "code",
   "execution_count": 6,
   "metadata": {},
   "outputs": [
    {
     "data": {
      "text/html": [
       "<div>\n",
       "<style scoped>\n",
       "    .dataframe tbody tr th:only-of-type {\n",
       "        vertical-align: middle;\n",
       "    }\n",
       "\n",
       "    .dataframe tbody tr th {\n",
       "        vertical-align: top;\n",
       "    }\n",
       "\n",
       "    .dataframe thead th {\n",
       "        text-align: right;\n",
       "    }\n",
       "</style>\n",
       "<table border=\"1\" class=\"dataframe\">\n",
       "  <thead>\n",
       "    <tr style=\"text-align: right;\">\n",
       "      <th></th>\n",
       "      <th>HD</th>\n",
       "    </tr>\n",
       "    <tr>\n",
       "      <th>STUSAB</th>\n",
       "      <th></th>\n",
       "    </tr>\n",
       "  </thead>\n",
       "  <tbody>\n",
       "    <tr>\n",
       "      <td>CA</td>\n",
       "      <td>233.0</td>\n",
       "    </tr>\n",
       "  </tbody>\n",
       "</table>\n",
       "</div>"
      ],
      "text/plain": [
       "           HD\n",
       "STUSAB       \n",
       "CA      233.0"
      ]
     },
     "execution_count": 6,
     "metadata": {},
     "output_type": "execute_result"
    }
   ],
   "source": [
    "# state with most new openings for HD\n",
    "most_openings_HD = pd.DataFrame(entry.groupby('STUSAB')['HD'].sum())\n",
    "most_openings_HD.sort_values('HD', ascending = False).drop_duplicates().head(1)"
   ]
  },
  {
   "cell_type": "code",
   "execution_count": 7,
   "metadata": {},
   "outputs": [
    {
     "data": {
      "text/html": [
       "<div>\n",
       "<style scoped>\n",
       "    .dataframe tbody tr th:only-of-type {\n",
       "        vertical-align: middle;\n",
       "    }\n",
       "\n",
       "    .dataframe tbody tr th {\n",
       "        vertical-align: top;\n",
       "    }\n",
       "\n",
       "    .dataframe thead th {\n",
       "        text-align: right;\n",
       "    }\n",
       "</style>\n",
       "<table border=\"1\" class=\"dataframe\">\n",
       "  <thead>\n",
       "    <tr style=\"text-align: right;\">\n",
       "      <th></th>\n",
       "      <th>LO</th>\n",
       "    </tr>\n",
       "    <tr>\n",
       "      <th>STUSAB</th>\n",
       "      <th></th>\n",
       "    </tr>\n",
       "  </thead>\n",
       "  <tbody>\n",
       "    <tr>\n",
       "      <td>TX</td>\n",
       "      <td>125.0</td>\n",
       "    </tr>\n",
       "  </tbody>\n",
       "</table>\n",
       "</div>"
      ],
      "text/plain": [
       "           LO\n",
       "STUSAB       \n",
       "TX      125.0"
      ]
     },
     "execution_count": 7,
     "metadata": {},
     "output_type": "execute_result"
    }
   ],
   "source": [
    "# state with most new openings for LO\n",
    "most_openings_HD = pd.DataFrame(entry.groupby('STUSAB')['LO'].sum())\n",
    "most_openings_HD.sort_values('LO', ascending = False).drop_duplicates().head(1)"
   ]
  },
  {
   "cell_type": "markdown",
   "metadata": {},
   "source": [
    "Are the location decisions of Lowe's and Home Depot Correlated? Create a scatter plot with Lowe's and Home Depot's entry decisions. Also report the correlation. Fill NAs with 0s."
   ]
  },
  {
   "cell_type": "code",
   "execution_count": 8,
   "metadata": {},
   "outputs": [
    {
     "data": {
      "text/plain": [
       "<matplotlib.collections.PathCollection at 0x7f12adc58fd0>"
      ]
     },
     "execution_count": 8,
     "metadata": {},
     "output_type": "execute_result"
    },
    {
     "data": {
      "image/png": "[encoded data removed]",
      "text/plain": [
       "<Figure size 432x288 with 1 Axes>"
      ]
     },
     "metadata": {
      "needs_background": "light"
     },
     "output_type": "display_data"
    }
   ],
   "source": [
    "# scatterplot\n",
    "plt.scatter(entry['HD'], entry['LO'],alpha =.3)"
   ]
  },
  {
   "cell_type": "code",
   "execution_count": 10,
   "metadata": {},
   "outputs": [
    {
     "data": {
      "text/plain": [
       "0.6639"
      ]
     },
     "execution_count": 10,
     "metadata": {},
     "output_type": "execute_result"
    }
   ],
   "source": [
    "# correlation\n",
    "round(entry['HD'].corr(entry['LO']), 4)"
   ]
  },
  {
   "cell_type": "markdown",
   "metadata": {},
   "source": [
    "What happens if you control for population? Create a variance covariance matrix with the following variables. \n",
    "* Lowe's entry\n",
    "* Home Depot entry\n",
    "* Population\n",
    "* Per Capita Income"
   ]
  },
  {
   "cell_type": "code",
   "execution_count": 11,
   "metadata": {},
   "outputs": [
    {
     "data": {
      "text/html": [
       "<div>\n",
       "<style scoped>\n",
       "    .dataframe tbody tr th:only-of-type {\n",
       "        vertical-align: middle;\n",
       "    }\n",
       "\n",
       "    .dataframe tbody tr th {\n",
       "        vertical-align: top;\n",
       "    }\n",
       "\n",
       "    .dataframe thead th {\n",
       "        text-align: right;\n",
       "    }\n",
       "</style>\n",
       "<table border=\"1\" class=\"dataframe\">\n",
       "  <thead>\n",
       "    <tr style=\"text-align: right;\">\n",
       "      <th></th>\n",
       "      <th>LO</th>\n",
       "      <th>HD</th>\n",
       "      <th>population</th>\n",
       "      <th>income_per_capita</th>\n",
       "    </tr>\n",
       "  </thead>\n",
       "  <tbody>\n",
       "    <tr>\n",
       "      <td>LO</td>\n",
       "      <td>0.372143</td>\n",
       "      <td>0.760089</td>\n",
       "      <td>7.781793e+04</td>\n",
       "      <td>1.435460e+02</td>\n",
       "    </tr>\n",
       "    <tr>\n",
       "      <td>HD</td>\n",
       "      <td>0.760089</td>\n",
       "      <td>0.989557</td>\n",
       "      <td>1.527400e+05</td>\n",
       "      <td>2.249244e+01</td>\n",
       "    </tr>\n",
       "    <tr>\n",
       "      <td>population</td>\n",
       "      <td>77817.926233</td>\n",
       "      <td>152739.964263</td>\n",
       "      <td>6.576192e+10</td>\n",
       "      <td>7.185512e+07</td>\n",
       "    </tr>\n",
       "    <tr>\n",
       "      <td>income_per_capita</td>\n",
       "      <td>143.546048</td>\n",
       "      <td>22.492436</td>\n",
       "      <td>7.185512e+07</td>\n",
       "      <td>1.159991e+08</td>\n",
       "    </tr>\n",
       "  </tbody>\n",
       "</table>\n",
       "</div>"
      ],
      "text/plain": [
       "                             LO             HD    population  \\\n",
       "LO                     0.372143       0.760089  7.781793e+04   \n",
       "HD                     0.760089       0.989557  1.527400e+05   \n",
       "population         77817.926233  152739.964263  6.576192e+10   \n",
       "income_per_capita    143.546048      22.492436  7.185512e+07   \n",
       "\n",
       "                   income_per_capita  \n",
       "LO                      1.435460e+02  \n",
       "HD                      2.249244e+01  \n",
       "population              7.185512e+07  \n",
       "income_per_capita       1.159991e+08  "
      ]
     },
     "execution_count": 11,
     "metadata": {},
     "output_type": "execute_result"
    }
   ],
   "source": [
    "entry[['LO', 'HD', 'population', 'income_per_capita']].cov()"
   ]
  },
  {
   "cell_type": "markdown",
   "metadata": {},
   "source": [
    "Also create scatter plots with number of stores and population."
   ]
  },
  {
   "cell_type": "code",
   "execution_count": 12,
   "metadata": {},
   "outputs": [
    {
     "data": {
      "text/plain": [
       "<matplotlib.collections.PathCollection at 0x7f12adbd7490>"
      ]
     },
     "execution_count": 12,
     "metadata": {},
     "output_type": "execute_result"
    },
    {
     "data": {
      "image/png": "[encoded data removed]",
      "text/plain": [
       "<Figure size 432x288 with 1 Axes>"
      ]
     },
     "metadata": {
      "needs_background": "light"
     },
     "output_type": "display_data"
    }
   ],
   "source": [
    "# scatterplot\n",
    "plt.scatter(entry['sum_column'], entry['population'],alpha =.3)"
   ]
  },
  {
   "cell_type": "code",
   "execution_count": null,
   "metadata": {},
   "outputs": [],
   "source": []
  }
 ],
 "metadata": {
  "kernelspec": {
   "display_name": "Python 3",
   "language": "python",
   "name": "python3"
  },
  "language_info": {
   "codemirror_mode": {
    "name": "ipython",
    "version": 3
   },
   "file_extension": ".py",
   "mimetype": "text/x-python",
   "name": "python",
   "nbconvert_exporter": "python",
   "pygments_lexer": "ipython3",
   "version": "3.7.4"
  }
 },
 "nbformat": 4,
 "nbformat_minor": 2
}
