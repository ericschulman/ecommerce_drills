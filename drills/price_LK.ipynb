{
 "cells": [
  {
   "cell_type": "code",
   "execution_count": 1,
   "metadata": {},
   "outputs": [],
   "source": [
    "import pandas as pd\n",
    "import numpy as np\n",
    "import matplotlib.pyplot as plt\n",
    "import os\n",
    "\n",
    "# Pandas display format\n",
    "pd.set_option('display.float_format', lambda x: '%.3f' % x)"
   ]
  },
  {
   "cell_type": "code",
   "execution_count": 2,
   "metadata": {},
   "outputs": [],
   "source": [
    "entry_df = pd.read_csv(\"drills_data/entry.csv\")\n",
    "prices_df = pd.read_csv(\"drills_data/prices.csv\")"
   ]
  },
  {
   "cell_type": "markdown",
   "metadata": {},
   "source": [
    "# Price dataframe\n",
    "* Ads. 1 means that it was sponsered, 0 means it wasn't promoted\n",
    "* No UPC on Amazon, hard to match these to Amazon IDs\n",
    "* Number of sellers for Amazon?\n",
    "* Limited number of stock for Amazon"
   ]
  },
  {
   "cell_type": "code",
   "execution_count": 3,
   "metadata": {},
   "outputs": [
    {
     "data": {
      "text/plain": [
       "Index(['platform', 'website', 'date', 'zipcode', 'rank', 'page', 'query',\n",
       "       'prod_id', 'upc', 'product', 'manufacturer', 'model', 'price',\n",
       "       'list_price', 'in_stock', 'max_qty', 'seller', 'arrives', 'shipping',\n",
       "       'shipping_price', 'shipping_options', 'store_stock', 'store_address',\n",
       "       'store_zip', 'store_price', 'weight', 'reviews', 'rating', 'quantity1',\n",
       "       'quantity2', 'quantity3', 'quantity4', 'quantity5', 'ads'],\n",
       "      dtype='object')"
      ]
     },
     "execution_count": 3,
     "metadata": {},
     "output_type": "execute_result"
    }
   ],
   "source": [
    "prices_df.columns"
   ]
  },
  {
   "cell_type": "code",
   "execution_count": 4,
   "metadata": {},
   "outputs": [],
   "source": [
    "prices_df['counter'] = prices_df.index"
   ]
  },
  {
   "cell_type": "code",
   "execution_count": 5,
   "metadata": {},
   "outputs": [
    {
     "data": {
      "text/plain": [
       "manufacturer    model                                             \n",
       "ACDelco         ARD12126S1                                            102\n",
       "                ARD847 Li-Ion 8-volt Super Compact Drill/Driver Ki     26\n",
       "Amazon Renewed  11255VSRRT                                             53\n",
       "                2691-22-cr                                             25\n",
       "                6335-02-cr                                              1\n",
       "                                                                     ... \n",
       "Worx            WX176L.9                                               61\n",
       "XtremepowerUS   61108-XP                                              145\n",
       "                61108-XP1                                              15\n",
       "                61109-XP                                               13\n",
       "Yescom          08PDH005-PD52CC-02                                     26\n",
       "Name: counter, Length: 409, dtype: int64"
      ]
     },
     "execution_count": 5,
     "metadata": {},
     "output_type": "execute_result"
    }
   ],
   "source": [
    "prices_df.groupby(['manufacturer', 'model'])['counter'].nunique()"
   ]
  },
  {
   "cell_type": "code",
   "execution_count": 6,
   "metadata": {},
   "outputs": [
    {
     "name": "stdout",
     "output_type": "stream",
     "text": [
      "platform\n",
      "['LOW' 'HD' 'WMT' 'AMZN']\n",
      "---------------------------------\n",
      "website\n",
      "['https://www.lowes.com/' 'https://www.homedepot.com/'\n",
      " 'https://www.walmart.com/' 'https://www.amazon.com/']\n",
      "---------------------------------\n",
      "date\n",
      "Many values\n",
      "---------------------------------\n",
      "zipcode\n",
      "[78722]\n",
      "---------------------------------\n",
      "rank\n",
      "[ 1.  2.  3.  4.  5.  6.  7.  8.  9. 10. 11. 12. 13. 14. 15. 16. 17. 18.\n",
      " 19. 20.  0. nan]\n",
      "---------------------------------\n",
      "page\n",
      "[ 1. nan  2.  3.]\n",
      "---------------------------------\n",
      "query\n",
      "Many values\n",
      "---------------------------------\n",
      "prod_id\n",
      "Many values\n",
      "---------------------------------\n",
      "upc\n",
      "Many values\n",
      "---------------------------------\n",
      "product\n",
      "Many values\n",
      "---------------------------------\n",
      "manufacturer\n",
      "Many values\n",
      "---------------------------------\n",
      "model\n",
      "Many values\n",
      "---------------------------------\n",
      "price\n",
      "Many values\n",
      "---------------------------------\n",
      "list_price\n",
      "Many values\n",
      "---------------------------------\n",
      "in_stock\n",
      "[ 1.  0. nan]\n",
      "---------------------------------\n",
      "max_qty\n",
      "Many values\n",
      "---------------------------------\n",
      "seller\n",
      "Many values\n",
      "---------------------------------\n",
      "arrives\n",
      "Many values\n",
      "---------------------------------\n",
      "shipping\n",
      "Many values\n",
      "---------------------------------\n",
      "shipping_price\n",
      "[  nan  0.    5.99  4.99 10.36  9.99 65.    6.11  6.49 11.06 10.61  8.77\n",
      "  5.5  11.12 19.99 15.77 14.99  5.44 17.37 12.99  8.64 12.1  34.95]\n",
      "---------------------------------\n",
      "shipping_options\n",
      "[nan  0.  1.  2.  3.  4.]\n",
      "---------------------------------\n",
      "store_stock\n",
      "[nan 'Free ship to store for pickup'\n",
      " 'Limited stock at Austin Mueller Airport' 'Limited stock at nearby store'\n",
      " 'In stock' 'Limited stock' 'Unknown' 'Out of stock'\n",
      " 'Unavailable at your store' 'Limited stock at Se Austin']\n",
      "---------------------------------\n",
      "store_address\n",
      "['S.E. Austin Lowes, 5510 South IH 35, Austin, TX'\n",
      " '1200 Barbara Jordan Blvd Suite 100, Austin, TX' nan\n",
      " '1030 Norwood Park Blvd, Austin, TX' '2525 W Anderson Ln, Austin, TX']\n",
      "---------------------------------\n",
      "store_zip\n",
      "[78722. 78723.    nan 78753. 78757.]\n",
      "---------------------------------\n",
      "store_price\n",
      "[  nan 19.83 29.64 35.   19.   30.   21.   24.84 99.   54.   48.88 69.\n",
      " 39.88 40.   25.   15.   26.88 94.   79.  ]\n",
      "---------------------------------\n",
      "weight\n",
      "Many values\n",
      "---------------------------------\n",
      "reviews\n",
      "Many values\n",
      "---------------------------------\n",
      "rating\n",
      "Many values\n",
      "---------------------------------\n",
      "quantity1\n",
      "Many values\n",
      "---------------------------------\n",
      "quantity2\n",
      "Many values\n",
      "---------------------------------\n",
      "quantity3\n",
      "[nan  6.  5.  3.  2. 19. 12.  8. 10.  1.  7. 14.  4. 18. 16. 15.  9. 13.\n",
      " 11. 17. 20.]\n",
      "---------------------------------\n",
      "quantity4\n",
      "[nan]\n",
      "---------------------------------\n",
      "quantity5\n",
      "[nan]\n",
      "---------------------------------\n",
      "ads\n",
      "[ 0.  1. nan]\n",
      "---------------------------------\n",
      "counter\n",
      "Many values\n",
      "---------------------------------\n"
     ]
    }
   ],
   "source": [
    "for col in prices_df.columns:\n",
    "    print(col)\n",
    "    \n",
    "    if len(prices_df[col].unique()) <= 30:\n",
    "        print(prices_df[col].unique())\n",
    "    else:\n",
    "        print(\"Many values\")\n",
    "\n",
    "    print(\"---------------------------------\")"
   ]
  },
  {
   "cell_type": "code",
   "execution_count": 7,
   "metadata": {},
   "outputs": [
    {
     "data": {
      "text/plain": [
       "(0        170.000\n",
       " 1       1118.000\n",
       " 2         15.000\n",
       " 3        449.000\n",
       " 4        254.000\n",
       "           ...   \n",
       " 20524     39.000\n",
       " 20525        nan\n",
       " 20526        nan\n",
       " 20527    105.000\n",
       " 20528        nan\n",
       " Name: reviews, Length: 20529, dtype: float64, 0       4.818\n",
       " 1       4.721\n",
       " 2       4.533\n",
       " 3       4.800\n",
       " 4       4.882\n",
       "          ... \n",
       " 20524   4.100\n",
       " 20525     nan\n",
       " 20526     nan\n",
       " 20527   3.900\n",
       " 20528     nan\n",
       " Name: rating, Length: 20529, dtype: float64)"
      ]
     },
     "execution_count": 7,
     "metadata": {},
     "output_type": "execute_result"
    }
   ],
   "source": [
    "prices_df.reviews, prices_df.rating"
   ]
  },
  {
   "cell_type": "code",
   "execution_count": 8,
   "metadata": {},
   "outputs": [
    {
     "name": "stdout",
     "output_type": "stream",
     "text": [
      "[nan  6.  5.  3.  2. 19. 12.  8. 10.  1.  7. 14.  4. 18. 16. 15.  9. 13.\n",
      " 11. 17. 20.]\n",
      "[2.0000e+00 2.3000e+01 0.0000e+00 2.6000e+01 6.0000e+00 1.0000e+00\n",
      " 3.0000e+00        nan 1.1000e+01 4.0000e+00 5.0000e+00 1.0000e+01\n",
      " 7.0000e+00 1.6000e+01 1.7000e+01 1.5000e+01 8.0000e+00 1.8000e+01\n",
      " 3.1000e+01 2.8560e+03 9.2200e+02 5.7000e+02 1.2600e+02 2.9800e+02\n",
      " 5.9000e+02 7.6000e+01 4.7800e+02 6.6000e+02 2.7760e+03 3.2000e+01\n",
      " 3.4000e+01 4.5000e+01 6.1700e+02 4.7400e+02 2.6900e+02 1.2900e+02\n",
      " 1.7200e+02 1.1900e+02 2.8000e+01 1.8900e+02 1.2000e+02 2.0000e+01\n",
      " 3.5000e+01 1.4000e+01 9.0000e+00 1.2000e+01 3.6000e+01 3.0000e+01\n",
      " 4.4000e+01 2.7000e+01 1.9000e+01 2.8390e+03 5.7600e+02 6.3000e+01\n",
      " 1.2100e+02 8.4880e+03 1.7100e+02 5.5000e+01 2.2000e+01 2.1000e+01\n",
      " 2.4000e+01 2.9000e+01 1.0000e+02 5.0000e+01 2.8310e+03 9.8300e+02\n",
      " 5.6400e+02 5.9200e+02 6.5700e+02 5.7500e+02 5.8000e+01 4.7700e+02\n",
      " 4.6000e+01 8.4870e+03 2.5800e+02 1.3000e+01 1.4500e+02 5.8900e+02\n",
      " 1.1700e+02 7.3000e+01 8.4940e+03 3.5700e+02 6.1800e+02 4.2000e+01\n",
      " 1.4400e+02 9.8400e+02 1.2800e+02 6.1100e+02 5.7400e+02 1.0600e+02\n",
      " 1.1200e+02 7.0000e+01 8.4790e+03 2.5100e+02 1.4300e+02 5.5700e+02\n",
      " 2.9400e+02 1.2700e+02 5.6900e+02 1.0900e+02 7.4000e+01 1.8400e+02\n",
      " 2.5000e+01 2.8320e+03 6.1500e+02 3.9800e+02 5.8000e+02 1.1100e+02\n",
      " 6.5000e+01 8.4750e+03 4.3000e+01 9.8200e+02 2.9500e+02 1.3500e+02\n",
      " 5.8600e+02 6.0800e+02 6.2000e+01 8.4740e+03 3.8000e+01 3.3000e+01\n",
      " 1.4100e+02 2.8190e+03 9.8100e+02 5.8500e+02 6.4700e+02 2.5000e+03\n",
      " 5.7800e+02 4.7500e+02 5.7000e+01 2.2600e+02 2.8120e+03 1.2030e+03\n",
      " 5.8200e+02 5.5200e+02 2.3670e+03 5.1000e+01 7.5000e+01 3.9000e+01\n",
      " 2.8080e+03 1.1880e+03 5.5100e+02 2.3460e+03 1.3400e+02 2.8700e+02\n",
      " 6.5600e+02 4.7000e+01 3.6200e+02 3.9600e+02 2.2400e+02 4.0000e+01\n",
      " 1.6600e+02 2.3500e+02 1.1600e+02 7.1000e+01 2.7920e+03 1.1160e+03\n",
      " 5.8400e+02 5.4600e+02 1.3300e+02 2.8800e+02 1.0980e+03 2.0900e+02\n",
      " 7.7000e+01 7.7900e+02 1.1110e+03 9.8000e+02 5.8100e+02 2.3320e+03\n",
      " 1.8300e+02 1.0500e+02 2.7870e+03 1.0960e+03 9.7800e+02 2.3290e+03\n",
      " 5.4000e+02 4.7300e+02 1.6100e+02 2.7820e+03 1.0490e+03 9.7700e+02\n",
      " 2.3260e+03 5.3900e+02 2.8600e+02 1.0970e+03 9.2000e+01 6.1400e+02\n",
      " 1.0380e+03 2.3200e+03 2.8500e+02 1.0890e+03 4.1000e+01 4.7200e+02\n",
      " 1.5100e+02 4.8000e+01 1.0110e+03 2.7860e+03 5.3300e+02 1.1370e+03\n",
      " 2.0600e+02 1.3200e+02 1.0400e+02 7.2000e+01 3.7800e+02 6.0000e+01\n",
      " 1.1330e+03 5.6000e+01 1.0100e+02 9.9500e+02 2.7850e+03 9.7600e+02\n",
      " 5.3200e+02 3.3000e+02 3.7500e+02 2.7800e+03 9.7500e+02 1.1280e+03\n",
      " 2.1700e+02 3.9500e+02 2.7790e+03 3.2900e+02 2.1300e+02 3.6300e+02\n",
      " 2.2200e+02 1.0650e+03 2.7730e+03 9.7300e+02 2.3100e+03 5.8300e+02\n",
      " 5.2300e+02 1.2200e+02 1.1250e+03 4.7000e+02 2.7590e+03 9.7100e+02\n",
      " 2.3090e+03 5.2200e+02 3.2700e+02 2.1100e+02 8.7000e+01 4.8500e+02\n",
      " 5.3000e+01 1.1200e+03 8.8000e+01 2.2100e+02 2.7580e+03 9.7000e+02\n",
      " 2.3030e+03 1.1230e+03 2.9900e+02 1.5000e+02 8.6000e+01 2.2300e+02\n",
      " 6.1300e+02 2.7510e+03 2.3020e+03 5.8800e+02 1.1410e+03 6.9200e+02\n",
      " 2.1500e+02 8.5000e+01 6.9000e+01 3.7300e+02 2.7410e+03 9.6900e+02\n",
      " 2.8400e+02 6.6000e+01 2.0300e+02 3.9400e+02 6.1000e+02 8.3000e+01\n",
      " 3.7200e+02 2.7340e+03 9.6800e+02 1.1500e+02 1.1680e+03 2.0800e+02\n",
      " 8.2000e+01 4.9700e+02 1.1690e+03 6.0900e+02 8.0000e+01 3.7000e+02\n",
      " 2.7200e+03 1.1940e+03 2.1000e+02 7.9000e+01 2.2890e+03 1.9100e+02\n",
      " 2.6870e+03 1.0610e+03 9.4800e+02 1.1870e+03 2.1200e+02 7.7800e+02\n",
      " 2.6950e+03 9.4700e+02 4.7900e+02 2.2800e+03 5.7900e+02 1.2450e+03\n",
      " 7.7700e+02 2.6760e+03 2.2780e+03 1.2470e+03 2.8200e+02 2.4500e+02\n",
      " 1.0550e+03 9.5100e+02 4.6800e+02 1.0700e+02 1.1790e+03 3.8100e+02\n",
      " 2.4400e+02 6.8000e+01 9.5800e+02 1.0540e+03 4.6000e+02 1.1780e+03\n",
      " 2.8000e+02 1.7600e+02 2.6710e+03 9.5600e+02 1.0510e+03 4.5300e+02\n",
      " 2.2710e+03 1.1770e+03 2.4300e+02 3.8000e+02 2.2500e+02 2.6550e+03\n",
      " 9.5400e+02 1.0500e+03 4.5400e+02 1.9500e+02 2.6490e+03 1.0480e+03\n",
      " 1.0300e+02 1.9300e+02 3.3500e+02 1.0460e+03 4.4400e+02 5.7700e+02\n",
      " 1.1730e+03 1.9200e+02 2.6300e+03 9.5300e+02 1.0450e+03 4.4000e+02\n",
      " 9.8000e+01 1.1670e+03 3.7900e+02 1.9000e+02 2.6190e+03 9.5200e+02\n",
      " 1.8800e+02 6.7000e+01 4.2900e+02 2.2580e+03 1.8700e+02 2.6090e+03\n",
      " 9.6400e+02 1.0440e+03 4.2800e+02 9.1000e+01 1.1570e+03 3.7700e+02\n",
      " 3.9900e+02 8.6700e+02 1.8100e+02 1.0420e+03 4.2500e+02 1.1520e+03\n",
      " 6.4000e+01 2.6010e+03 1.0370e+03 2.2460e+03 1.7700e+02 2.5950e+03\n",
      " 1.0340e+03 4.2400e+02 2.2360e+03 8.4000e+01 4.6900e+02 1.6300e+02\n",
      " 2.4100e+02 2.5940e+03 8.0100e+02 4.2200e+02 2.1870e+03 2.2320e+03\n",
      " 1.1600e+03 4.5050e+03 1.6400e+02 2.4200e+02 3.7000e+01 2.5840e+03\n",
      " 1.0310e+03 4.1300e+02 2.2310e+03 2.4600e+02 1.5517e+04 2.3900e+02\n",
      " 6.3200e+02 2.5730e+03 9.8800e+02 4.1200e+02 5.4000e+01 1.1830e+03\n",
      " 2.0200e+02 1.5968e+04 2.3800e+02 1.8600e+02 1.8500e+02 1.6800e+02\n",
      " 2.2200e+03 1.1850e+03 2.6500e+02 1.5746e+04 9.5000e+01 4.9000e+01\n",
      " 2.5630e+03 3.1700e+02 1.0170e+03 1.5739e+04 2.1400e+02 2.3600e+02\n",
      " 3.1500e+02 2.2120e+03 6.1000e+01 2.5570e+03 1.1820e+03 1.5736e+04\n",
      " 7.9000e+02 2.2100e+03 3.1000e+02 1.0140e+03 2.6400e+02 2.6100e+02\n",
      " 7.9600e+02 1.5729e+04 2.5410e+03 2.6300e+02 2.5390e+03 2.1950e+03\n",
      " 3.0800e+02 1.0080e+03 1.1760e+03 3.3300e+02 2.5300e+03 9.9200e+02\n",
      " 1.1740e+03 1.4800e+02 1.5600e+02 9.9100e+02 2.7100e+02 1.3800e+02\n",
      " 2.5120e+03 9.9300e+02 3.0000e+02 9.9700e+02 2.7500e+02 1.4600e+02\n",
      " 1.9900e+02 2.5010e+03 9.8900e+02 1.1810e+03 2.5060e+03 2.5900e+02\n",
      " 2.5030e+03 7.8000e+01 1.1800e+03 1.2360e+03 2.0000e+02 3.3400e+02\n",
      " 1.5708e+04 2.4990e+03 9.8700e+02 2.5000e+02 6.8500e+02 1.5707e+04\n",
      " 2.3700e+02 6.7700e+02 1.3100e+02 2.4950e+03 9.8600e+02 5.2000e+01\n",
      " 2.4920e+03 1.4700e+02 2.4870e+03 5.6800e+02 2.8300e+02 1.5688e+04\n",
      " 8.0200e+02 2.4890e+03 5.6700e+02 2.9200e+02 9.9400e+02 8.0900e+02\n",
      " 2.0700e+02 3.8400e+02 2.4900e+02 5.6600e+02 9.4000e+02 1.6200e+02\n",
      " 1.5400e+02 1.5680e+04 9.3900e+02 1.7000e+02 2.1800e+02 3.8500e+02\n",
      " 5.9000e+01 9.6100e+02 3.3600e+02 1.5668e+04 2.2900e+02 2.5130e+03\n",
      " 9.5700e+02 2.0930e+03 2.0500e+02 9.4400e+02 1.4320e+03 1.1000e+02\n",
      " 2.3400e+02 1.9400e+02 2.0820e+03 2.0400e+02 9.3400e+02 8.0800e+02\n",
      " 3.8200e+02 1.5300e+02 2.2800e+02 2.5070e+03 2.0100e+02 1.5664e+04\n",
      " 2.6700e+02 2.0760e+03 1.9800e+02 2.0720e+03 1.9700e+02 1.5666e+04\n",
      " 1.0000e+03 9.3100e+02 2.0660e+03 2.1600e+02 1.5645e+04 9.2000e+02\n",
      " 1.6700e+02 2.5110e+03 2.0410e+03 9.8500e+02 9.4200e+02 5.7300e+02\n",
      " 1.5639e+04 2.3300e+02 9.2400e+02 1.5200e+02 2.4940e+03 1.7500e+02\n",
      " 5.7100e+02 2.4190e+03 2.0020e+03 9.2700e+02 2.8100e+02 6.4100e+02\n",
      " 1.5482e+04 2.4000e+02 1.9900e+03 9.1900e+02 2.7900e+02 1.5480e+04\n",
      " 2.3890e+03 9.1300e+02 1.9860e+03 9.3200e+02 1.4350e+03 2.3100e+02\n",
      " 9.1200e+02 1.9840e+03 1.3600e+02 5.7200e+02 1.4300e+03 2.3760e+03\n",
      " 1.9720e+03 1.5479e+04 2.3200e+02 2.1270e+03 1.7890e+03 8.5100e+02\n",
      " 5.6200e+02 4.4300e+02 1.0020e+03 1.5044e+04 1.5900e+02 4.3300e+02\n",
      " 1.7810e+03 1.0200e+02 1.4691e+04 1.8200e+02 8.4900e+02 4.4200e+02\n",
      " 9.4000e+01 6.2900e+02 1.5500e+02 4.1900e+02 1.7720e+03 5.5500e+02\n",
      " 1.4562e+04 1.0040e+03 2.1130e+03 8.4600e+02 1.0030e+03 6.0700e+02\n",
      " 2.1900e+02 5.2400e+02 9.6000e+01 1.4561e+04 2.0830e+03 1.0750e+03\n",
      " 5.2100e+02 4.4100e+02 1.0560e+03 6.0400e+02 1.6900e+02 7.9800e+02\n",
      " 5.1300e+02 5.5600e+02 2.0670e+03 1.0190e+03 5.1000e+02 2.2000e+02\n",
      " 4.3900e+02 6.1200e+02 6.2500e+02 6.0100e+02 7.9700e+02 8.9000e+01\n",
      " 1.4900e+02 4.2000e+02 5.0600e+02 1.4553e+04 6.0200e+02 7.9400e+02\n",
      " 9.0000e+01 5.0200e+02 6.0500e+02 4.3700e+02 1.4551e+04 6.2700e+02\n",
      " 4.3400e+02 9.6600e+02 4.9400e+02 1.4549e+04 6.2600e+02 3.3100e+02\n",
      " 4.8900e+02 1.4545e+04 7.9500e+02 4.3200e+02 1.4200e+02 9.9000e+01\n",
      " 4.8100e+02 1.4540e+04 7.9300e+02 9.1500e+02 1.0050e+03 5.9700e+02\n",
      " 4.3600e+02 5.9800e+02 1.4541e+04 7.9200e+02 4.3000e+02 1.4539e+04\n",
      " 5.9500e+02 2.5300e+02 1.4630e+03 5.1700e+02 8.1500e+02 6.5400e+02\n",
      " 8.1600e+02 6.5500e+02 1.4527e+04 2.4800e+02 1.4580e+03 8.1400e+02\n",
      " 1.1800e+02 5.9300e+02 1.3000e+02 4.0300e+02 2.5400e+02 1.4519e+04\n",
      " 5.8700e+02 4.0200e+02 8.1000e+01 7.9100e+02 3.8600e+02 2.0280e+03\n",
      " 1.4490e+03 1.0100e+03 1.4507e+04 2.0070e+03 1.4450e+03 8.0700e+02\n",
      " 5.5800e+02 1.4496e+04 1.1400e+02 2.5200e+02 1.9870e+03 1.4491e+04\n",
      " 1.5700e+02 3.1400e+02 1.9820e+03 5.4800e+02 4.0500e+02 1.8170e+03\n",
      " 5.4700e+02 1.4461e+04 5.0500e+02 3.3200e+02 2.7600e+02 1.9060e+03\n",
      " 1.4310e+03 7.8400e+02 1.4467e+04 5.3800e+02 5.4400e+02 1.4442e+04\n",
      " 1.8580e+03 1.4190e+03 7.6700e+02 4.1400e+02 7.6000e+02 5.4300e+02\n",
      " 1.4417e+04 5.1400e+02 4.0100e+02 1.5570e+03 1.4416e+04 5.1500e+02\n",
      " 1.9600e+02 1.1300e+02 3.0700e+02 1.4030e+03 7.5200e+02 1.4390e+04\n",
      " 4.9000e+02 7.8800e+02 1.5930e+03 1.3610e+03 9.3800e+02 7.0600e+02\n",
      " 4.1600e+02 4.2100e+02 2.4700e+02 7.8500e+02 5.6300e+02 1.4340e+04\n",
      " 3.0100e+02 9.7000e+01 1.5770e+03 9.2800e+02 5.3700e+02 7.8200e+02\n",
      " 4.1700e+02 1.5490e+03 1.4295e+04 1.5270e+03 9.1600e+02 2.5700e+02\n",
      " 1.5070e+03 5.3400e+02 1.4273e+04 1.4540e+03 1.7900e+02 4.1000e+02\n",
      " 1.4244e+04 1.5140e+03 9.0900e+02 2.7700e+02 1.5130e+03 9.0500e+02\n",
      " 2.7000e+02 1.4226e+04 1.4970e+03 2.6200e+02 1.4225e+04 1.2580e+03\n",
      " 6.4300e+02 2.6000e+02 1.4187e+04 1.4760e+03 5.3100e+02 1.4640e+03\n",
      " 1.4163e+04 1.7400e+02 1.7370e+03 1.4440e+03 9.3700e+02 1.1860e+03\n",
      " 2.5600e+02 1.0800e+02 1.2480e+03 8.9000e+02 1.1490e+03 5.1600e+02\n",
      " 6.2100e+02 7.6300e+02 1.4045e+04 5.3000e+02 3.2500e+02 8.8200e+02\n",
      " 4.0000e+02 8.5500e+02 8.8500e+02 5.9100e+02 7.5000e+02 5.2700e+02\n",
      " 8.4400e+02 5.0700e+02 1.3887e+04 9.7900e+02 1.3861e+04 3.1900e+02\n",
      " 8.1700e+02 5.0800e+02 5.0000e+02 7.2000e+02 1.3159e+04 2.9700e+02\n",
      " 8.3500e+02 7.1100e+02 2.3000e+02 1.7800e+02 4.8200e+02 8.2600e+02\n",
      " 7.1200e+02 6.4000e+02 8.2800e+02 5.0400e+02 6.3800e+02 1.3800e+04\n",
      " 2.7200e+02 4.4800e+02 8.3000e+02 1.3797e+04 7.0700e+02 4.6600e+02\n",
      " 1.3757e+04 2.7800e+02 8.4500e+02 8.2700e+02 4.9900e+02 7.0300e+02\n",
      " 1.3721e+04 5.1100e+02 2.2700e+02 2.7300e+02 8.4100e+02 8.1300e+02\n",
      " 4.9200e+02 6.9700e+02 3.6900e+02 1.3942e+04 1.7300e+02 8.3400e+02\n",
      " 8.3100e+02 8.2300e+02 4.2300e+02]\n"
     ]
    }
   ],
   "source": [
    "print(prices_df.quantity3.unique())\n",
    "print(prices_df.quantity1.unique())"
   ]
  },
  {
   "cell_type": "code",
   "execution_count": 9,
   "metadata": {},
   "outputs": [
    {
     "data": {
      "image/png": "[encoded data removed]",
      "text/plain": [
       "<Figure size 432x288 with 1 Axes>"
      ]
     },
     "metadata": {
      "needs_background": "light"
     },
     "output_type": "display_data"
    }
   ],
   "source": [
    "# Prices vs List Prices scatter\n",
    "\n",
    "plt.scatter(prices_df.price, prices_df.list_price)\n",
    "plt.show()"
   ]
  },
  {
   "cell_type": "code",
   "execution_count": 10,
   "metadata": {},
   "outputs": [
    {
     "data": {
      "text/plain": [
       "Index(['platform', 'website', 'date', 'zipcode', 'rank', 'page', 'query',\n",
       "       'prod_id', 'upc', 'product', 'manufacturer', 'model', 'price',\n",
       "       'list_price', 'in_stock', 'max_qty', 'seller', 'arrives', 'shipping',\n",
       "       'shipping_price', 'shipping_options', 'store_stock', 'store_address',\n",
       "       'store_zip', 'store_price', 'weight', 'reviews', 'rating', 'quantity1',\n",
       "       'quantity2', 'quantity3', 'quantity4', 'quantity5', 'ads', 'counter'],\n",
       "      dtype='object')"
      ]
     },
     "execution_count": 10,
     "metadata": {},
     "output_type": "execute_result"
    }
   ],
   "source": [
    "prices_df.columns"
   ]
  },
  {
   "cell_type": "code",
   "execution_count": 11,
   "metadata": {},
   "outputs": [
    {
     "data": {
      "text/plain": [
       "(platform\n",
       " AMZN   19.692\n",
       " HD        nan\n",
       " LOW       nan\n",
       " WMT    11.682\n",
       " Name: max_qty, dtype: float64, platform\n",
       " AMZN   80.000\n",
       " HD        nan\n",
       " LOW       nan\n",
       " WMT    12.000\n",
       " Name: max_qty, dtype: float64)"
      ]
     },
     "execution_count": 11,
     "metadata": {},
     "output_type": "execute_result"
    }
   ],
   "source": [
    "prices_df.groupby('platform')['max_qty'].mean(), prices_df.groupby('platform')['max_qty'].max()"
   ]
  },
  {
   "cell_type": "code",
   "execution_count": 12,
   "metadata": {},
   "outputs": [
    {
     "data": {
      "text/plain": [
       "array([nan, 'Free ship to store for pickup',\n",
       "       'Limited stock at Austin Mueller Airport',\n",
       "       'Limited stock at nearby store', 'In stock', 'Limited stock',\n",
       "       'Unknown', 'Out of stock', 'Unavailable at your store',\n",
       "       'Limited stock at Se Austin'], dtype=object)"
      ]
     },
     "execution_count": 12,
     "metadata": {},
     "output_type": "execute_result"
    }
   ],
   "source": [
    "prices_df['store_stock'].unique()"
   ]
  },
  {
   "cell_type": "code",
   "execution_count": 13,
   "metadata": {},
   "outputs": [
    {
     "data": {
      "text/plain": [
       "array(['Amazon.com', nan, 'MaxTool',\n",
       "       '\\n                                —\\n                            ',\n",
       "       'CPO Outlets', 'Baystate Tool Supply', 'TheHardwareSource',\n",
       "       'SHANESHOP', 'JBTools', 'Neandertool', 'E-Com Supply',\n",
       "       'Garland Home Center', 'TwinBargains', 'Amazon Warehouse',\n",
       "       'Aplus Quality', 'ExpressUSA.', 'gifts4utlmglobal',\n",
       "       'Sunbelt Products', 'Masterworkstool', 'KimoUS', 'KIMODirect',\n",
       "       'Teccpo Power US', 'GreatStar Tools', 'dirtcheapsellerms',\n",
       "       'Toolman-usa', 'Shop J&W', 'mantianxing-US', 'dollar-a-day',\n",
       "       'AB Promise', '1sso', 'Vera Tools', 'dabojin', 'AMT Pro',\n",
       "       'GALAX  PRO', 'Ferrigan Enterprises', 'Glory-PTL', 'Simple Works',\n",
       "       'neatbuys', 'Acme Tools', '3S Distributing', 'Bomb Brands ✔',\n",
       "       'Hardware Sales Inc.', 'Essex Technology Group', 'JaxPawnII',\n",
       "       'Other Fellow', 'RLT-Source', 'Naturally Nature', 'by Holikme',\n",
       "       'Hi-Spec Products, Inc.', 'Three Lovely Princesses', 'RFBDirect',\n",
       "       'Tools And More', 'DISCOUNTTOOLMALL', 'Team FTO Store',\n",
       "       'CommonGoods LLC', 'Our Family Bargains', 'Moan Shop',\n",
       "       'Universal Discounts', 'P&Q Enterprises', 'Rover Mall',\n",
       "       'Caswell Adventures', 'Find it at the Bay', 'Capital Supply',\n",
       "       'BTG Seller, LLC', 'Kings Bargains', 'Jj&Co', 'Tools Plus More',\n",
       "       'Tool Time Distribution', 'BEST PRICE MOBILE', 'escorp',\n",
       "       'OverstockedRetail', 'Posh Shop and Save', 'Trader Chucks LLC',\n",
       "       'STL PRO, Inc.', 'Design Tactics', 'Newtoolsforyou',\n",
       "       'Click Surf Shop', 'PaintingSBS', 'Ibuysellbarter', 'Chaining',\n",
       "       'OTL', 'The Shopping Place', 'Top STAAT Inc.', 'Primum 19',\n",
       "       'etoolguy', 'Kardin', 'Handle With Care', 'GTY Enterprises',\n",
       "       'Pro Source Supply', 'AAA-RHS Marketing', 'Deuces Wild',\n",
       "       'Amazing Warehouse Deal', 'houssion', 'Angel Seller',\n",
       "       'GP Tools Direct', 'GreathychikaNA', 'DecoxUS', 'JT Supply Co.',\n",
       "       'Super  Bargains', 'usa_accessories', 'Davids Tools',\n",
       "       'Skyline Studio', 'Famatronix llc', 'Chans eStore Ltd. Co.',\n",
       "       'JjsFactoryDirect', 'BayBeautyShop', 'Our Pampered Home',\n",
       "       'Venditus', 'Electronic.Depot', 'Always Open', 'J & K Sellers Inc',\n",
       "       'MagnaTools', 'cellulartech', '19th Hole Deals', 'Grit Inc.',\n",
       "       'Pro Click', 'ToolsAppetite', 'EnterpriseGroup',\n",
       "       'Hollywood Nights', 'Healthlabs', 'Home and Trail', 'GoodGrabs',\n",
       "       'HardwareUSA', 'Teeno Store', 'AvlStore', '1TopTools',\n",
       "       'TOTALELEKTRIK', 'Professional Products Inc', 'LIVEBEAR',\n",
       "       'Sherman Bodega', 'MAIBERG Tools', 'Capri Universal',\n",
       "       'Tooleader Direct', 'SOL shop', 'Anewbiz_1', 'Toolup', 'B&KSUPPLY',\n",
       "       'Yes Pawn', 'VM Express', 'American Safety Distributors',\n",
       "       'Absolute Lifestyle', 'Himbol', 'pro100jon', 'Trader Chucks',\n",
       "       'Bargain Ben', 'C-MOTEL', 'Autojare Company Limited',\n",
       "       'Tool Town Store', '1-800 ToolRepair', 'Fleet Tool',\n",
       "       'Limitless Supplements LLC', 'Intro Gallery', 'Industrial Tools',\n",
       "       'JUEMEL', 'Holikme Store', 'MOUNT VISION LLC', 'LANKE INTERNET',\n",
       "       'S-LONG Tools', 'CoastalTool', 'HiwareDirect',\n",
       "       'Slicktron TM DJI Dealer Houston', 'TYH Sales', 'Pro-Distributing',\n",
       "       'The Bargain Empire 1', 'alexkarpay', 'Safe Buy Co.',\n",
       "       'We Save You Cash', 'Just Prime Tools', 'Broward Exchange',\n",
       "       'Sun Country Deals', 'Anthony & Ion',\n",
       "       'Moms Goods and Stuff (Serial Numbers Recorded)',\n",
       "       'American-Mechanic', 'We Sell Only To You', 'Talentafterthought',\n",
       "       'hochstern', 'Tool Realm Inc.', 'East Coast Vendors',\n",
       "       'ACDelco Tools 🛠️', 'WAKYME', 'DistroTech', 'Shop Well',\n",
       "       'Lifestyle by Focus', 'Buckeye Tool Supply',\n",
       "       'PowerToolReplacementParts', 'Daily_Discount_Dealz',\n",
       "       'WONDER MASTER-US', 'BeautyParadise', 'Supply Harbor',\n",
       "       'valueadded', 'mjentertainment', 'VDO-Gadgets', 'these sellers',\n",
       "       'Boilard Tools', 'MIA-s', 'Household-us', 'HDD Shop',\n",
       "       'LasVegasSurplus', 'BEISHENG STORE', 'TopRated2020',\n",
       "       'ShowTimeTools', 'GoodStockShop', 'yuhangUS', 'CSW Official Store',\n",
       "       'Mazgear', 'Jason Murphy', 'MajorSavings2You'], dtype=object)"
      ]
     },
     "execution_count": 13,
     "metadata": {},
     "output_type": "execute_result"
    }
   ],
   "source": [
    "prices_df[prices_df['platform']=='AMZN'].seller.unique()"
   ]
  },
  {
   "cell_type": "code",
   "execution_count": 14,
   "metadata": {},
   "outputs": [
    {
     "data": {
      "image/png": "[encoded data removed]",
      "text/plain": [
       "<Figure size 432x288 with 1 Axes>"
      ]
     },
     "metadata": {
      "needs_background": "light"
     },
     "output_type": "display_data"
    }
   ],
   "source": [
    "plt.plot(prices_df.shipping_price)\n",
    "plt.show()"
   ]
  },
  {
   "cell_type": "code",
   "execution_count": 15,
   "metadata": {},
   "outputs": [
    {
     "data": {
      "text/plain": [
       "array(['LOW', 'HD', 'WMT', 'AMZN'], dtype=object)"
      ]
     },
     "execution_count": 15,
     "metadata": {},
     "output_type": "execute_result"
    }
   ],
   "source": [
    "prices_df.platform.unique()"
   ]
  },
  {
   "cell_type": "code",
   "execution_count": 16,
   "metadata": {},
   "outputs": [
    {
     "data": {
      "text/plain": [
       "0    2.000\n",
       "1   23.000\n",
       "2    0.000\n",
       "3   26.000\n",
       "Name: quantity1, dtype: float64"
      ]
     },
     "execution_count": 16,
     "metadata": {},
     "output_type": "execute_result"
    }
   ],
   "source": [
    "prices_df.quantity1.head(4)"
   ]
  },
  {
   "cell_type": "code",
   "execution_count": 17,
   "metadata": {},
   "outputs": [
    {
     "data": {
      "text/plain": [
       "0   0.000\n",
       "1   0.000\n",
       "2   0.000\n",
       "3   1.000\n",
       "Name: quantity2, dtype: float64"
      ]
     },
     "execution_count": 17,
     "metadata": {},
     "output_type": "execute_result"
    }
   ],
   "source": [
    "prices_df.quantity2.head(4)"
   ]
  },
  {
   "cell_type": "code",
   "execution_count": 18,
   "metadata": {},
   "outputs": [
    {
     "data": {
      "text/plain": [
       "0   nan\n",
       "1   nan\n",
       "2   nan\n",
       "3   nan\n",
       "Name: quantity3, dtype: float64"
      ]
     },
     "execution_count": 18,
     "metadata": {},
     "output_type": "execute_result"
    }
   ],
   "source": [
    "prices_df.quantity3.head(4)"
   ]
  },
  {
   "cell_type": "code",
   "execution_count": 19,
   "metadata": {},
   "outputs": [
    {
     "data": {
      "text/plain": [
       "0   nan\n",
       "1   nan\n",
       "2   nan\n",
       "3   nan\n",
       "Name: quantity4, dtype: float64"
      ]
     },
     "execution_count": 19,
     "metadata": {},
     "output_type": "execute_result"
    }
   ],
   "source": [
    "prices_df.quantity4.head(4)"
   ]
  },
  {
   "cell_type": "code",
   "execution_count": 20,
   "metadata": {},
   "outputs": [
    {
     "data": {
      "text/plain": [
       "0   nan\n",
       "1   nan\n",
       "2   nan\n",
       "3   nan\n",
       "Name: quantity5, dtype: float64"
      ]
     },
     "execution_count": 20,
     "metadata": {},
     "output_type": "execute_result"
    }
   ],
   "source": [
    "prices_df.quantity5.head(4)"
   ]
  },
  {
   "cell_type": "code",
   "execution_count": null,
   "metadata": {},
   "outputs": [],
   "source": []
  },
  {
   "cell_type": "code",
   "execution_count": null,
   "metadata": {},
   "outputs": [],
   "source": []
  }
 ],
 "metadata": {
  "kernelspec": {
   "display_name": "Python 3",
   "language": "python",
   "name": "python3"
  },
  "language_info": {
   "codemirror_mode": {
    "name": "ipython",
    "version": 3
   },
   "file_extension": ".py",
   "mimetype": "text/x-python",
   "name": "python",
   "nbconvert_exporter": "python",
   "pygments_lexer": "ipython3",
   "version": "3.7.4"
  }
 },
 "nbformat": 4,
 "nbformat_minor": 4
}
