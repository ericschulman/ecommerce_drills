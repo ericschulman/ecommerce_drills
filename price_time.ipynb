{
 "cells": [
  {
   "cell_type": "code",
   "execution_count": 103,
   "metadata": {},
   "outputs": [],
   "source": [
    "import pandas as pd #package for reading data\n",
    "import numpy as np \n",
    "import matplotlib.pyplot as plt #package for creating plots\n",
    "from datetime import datetime, timezone #for time"
   ]
  },
  {
   "cell_type": "markdown",
   "metadata": {},
   "source": [
    "Import data into the notebook"
   ]
  },
  {
   "cell_type": "code",
   "execution_count": 104,
   "metadata": {},
   "outputs": [],
   "source": [
    "data_folder = \"drills_data/\"\n",
    "prices = pd.read_csv(data_folder + \"prices.csv\")"
   ]
  },
  {
   "cell_type": "markdown",
   "metadata": {},
   "source": [
    "How many observations do we have for each month in the data? Does it differ by vendor?"
   ]
  },
  {
   "cell_type": "code",
   "execution_count": 105,
   "metadata": {},
   "outputs": [
    {
     "data": {
      "text/plain": [
       "0       2020-01-11 13:47:37.082\n",
       "1       2020-01-11 13:47:39.904\n",
       "2       2020-01-11 13:47:42.054\n",
       "3       2020-01-11 13:47:44.069\n",
       "4       2020-01-11 13:47:45.698\n",
       "                  ...          \n",
       "20524   2020-06-03 11:10:02.463\n",
       "20525   2020-06-03 11:16:28.417\n",
       "20526   2020-06-03 11:18:40.251\n",
       "20527   2020-06-03 11:20:38.264\n",
       "20528   2020-06-03 11:21:09.652\n",
       "Name: datetime, Length: 20529, dtype: datetime64[ns]"
      ]
     },
     "execution_count": 105,
     "metadata": {},
     "output_type": "execute_result"
    }
   ],
   "source": [
    "#convert epoch to date\n",
    "prices['datetime'] = (prices['date']/1000).apply(datetime.fromtimestamp)\n",
    "prices['datetime']"
   ]
  },
  {
   "cell_type": "markdown",
   "metadata": {},
   "source": [
    "How many observations do we have for each 2 week period in the data? Does it differ by vendor?"
   ]
  },
  {
   "cell_type": "code",
   "execution_count": 106,
   "metadata": {},
   "outputs": [
    {
     "data": {
      "text/plain": [
       "byweek\n",
       "01     364\n",
       "02    2034\n",
       "03    2415\n",
       "04    2324\n",
       "05    2268\n",
       "06    1952\n",
       "07     974\n",
       "08     554\n",
       "11    1910\n",
       "12    2041\n",
       "13    1059\n",
       "14    1739\n",
       "15     233\n",
       "16      60\n",
       "20     149\n",
       "21     351\n",
       "22     102\n",
       "Name: byweek, dtype: int64"
      ]
     },
     "execution_count": 106,
     "metadata": {},
     "output_type": "execute_result"
    }
   ],
   "source": [
    "prices['byweek'] = prices.datetime.dt.strftime('%W')\n",
    "prices.groupby('byweek')['byweek'].count()"
   ]
  },
  {
   "cell_type": "code",
   "execution_count": 166,
   "metadata": {},
   "outputs": [
    {
     "data": {
      "text/plain": [
       "platform  byweek\n",
       "AMZN      01        145\n",
       "          02        818\n",
       "          03        968\n",
       "          04        909\n",
       "          05        808\n",
       "          06        599\n",
       "          11        844\n",
       "          12        820\n",
       "          13        429\n",
       "          14        680\n",
       "          15        110\n",
       "          16         33\n",
       "HD        01         84\n",
       "          02        438\n",
       "          03        531\n",
       "          04        536\n",
       "          05        561\n",
       "          06        523\n",
       "          07        328\n",
       "          08        127\n",
       "          11        283\n",
       "          12        310\n",
       "          13        253\n",
       "          14        474\n",
       "          20         64\n",
       "          22          4\n",
       "LOW       01         65\n",
       "          02        383\n",
       "          03        465\n",
       "          04        471\n",
       "          05        484\n",
       "          06        434\n",
       "          07        311\n",
       "          08        210\n",
       "          11        427\n",
       "          12        497\n",
       "          13        157\n",
       "          14        226\n",
       "          15         20\n",
       "          20         20\n",
       "          21        200\n",
       "          22         80\n",
       "WMT       01         70\n",
       "          02        395\n",
       "          03        451\n",
       "          04        408\n",
       "          05        415\n",
       "          06        396\n",
       "          07        335\n",
       "          08        217\n",
       "          11        356\n",
       "          12        414\n",
       "          13        220\n",
       "          14        359\n",
       "          15        103\n",
       "          16         27\n",
       "          20         65\n",
       "          21        151\n",
       "          22         18\n",
       "Name: byweek, dtype: int64"
      ]
     },
     "execution_count": 166,
     "metadata": {},
     "output_type": "execute_result"
    }
   ],
   "source": [
    "# week distribution by vendor\n",
    "prices.groupby(['platform', 'byweek'])['byweek'].count()"
   ]
  },
  {
   "cell_type": "markdown",
   "metadata": {},
   "source": [
    "Report the variance covariance matrix for each month of the data. How does this change over time?"
   ]
  },
  {
   "cell_type": "code",
   "execution_count": 209,
   "metadata": {},
   "outputs": [
    {
     "data": {
      "text/plain": [
       "array([[2.08593405e+07, 2.04814890e+07, 1.49687325e+07, 8.01238950e+06,\n",
       "        1.59860250e+06, 3.10032000e+05],\n",
       "       [2.04814890e+07, 2.01104820e+07, 1.46975850e+07, 7.86725100e+06,\n",
       "        1.56964500e+06, 3.04416000e+05],\n",
       "       [1.49687325e+07, 1.46975850e+07, 1.07416125e+07, 5.74971750e+06,\n",
       "        1.14716250e+06, 2.22480000e+05],\n",
       "       [8.01238950e+06, 7.86725100e+06, 5.74971750e+06, 3.07768050e+06,\n",
       "        6.14047500e+05, 1.19088000e+05],\n",
       "       [1.59860250e+06, 1.56964500e+06, 1.14716250e+06, 6.14047500e+05,\n",
       "        1.22512500e+05, 2.37600000e+04],\n",
       "       [3.10032000e+05, 3.04416000e+05, 2.22480000e+05, 1.19088000e+05,\n",
       "        2.37600000e+04, 4.60800000e+03]])"
      ]
     },
     "execution_count": 209,
     "metadata": {},
     "output_type": "execute_result"
    }
   ],
   "source": [
    "prices['bymonth'] = prices.datetime.dt.strftime('%m')\n",
    "y = prices.groupby(['bymonth'])['bymonth'].count()\n",
    "x = [i for i in range(1,len(y)+1)]\n",
    "to_dict = dict(zip(x, y))\n",
    "data = list(to_dict.items())\n",
    "an_array = np.array(data)\n",
    "np.cov(an_array)"
   ]
  },
  {
   "cell_type": "markdown",
   "metadata": {},
   "source": [
    "Create a lagged variable for rank and promotions."
   ]
  },
  {
   "cell_type": "code",
   "execution_count": null,
   "metadata": {},
   "outputs": [],
   "source": []
  },
  {
   "cell_type": "markdown",
   "metadata": {},
   "source": [
    "Create a variance covariance matrix between rank, promotions, and the 2 lagged variables"
   ]
  },
  {
   "cell_type": "code",
   "execution_count": null,
   "metadata": {},
   "outputs": [],
   "source": []
  }
 ],
 "metadata": {
  "kernelspec": {
   "display_name": "Python 3",
   "language": "python",
   "name": "python3"
  },
  "language_info": {
   "codemirror_mode": {
    "name": "ipython",
    "version": 3
   },
   "file_extension": ".py",
   "mimetype": "text/x-python",
   "name": "python",
   "nbconvert_exporter": "python",
   "pygments_lexer": "ipython3",
   "version": "3.8.3"
  }
 },
 "nbformat": 4,
 "nbformat_minor": 2
}
