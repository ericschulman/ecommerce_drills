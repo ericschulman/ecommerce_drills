{
 "cells": [
  {
   "cell_type": "code",
   "execution_count": 1,
   "metadata": {},
   "outputs": [],
   "source": [
    "import urllib\n",
    "import lxml\n",
    "from lxml import etree\n",
    "from lxml import html\n",
    "import pandas as pd\n",
    "from lxml.html.soupparser import fromstring"
   ]
  },
  {
   "cell_type": "code",
   "execution_count": 2,
   "metadata": {},
   "outputs": [],
   "source": [
    "def get_page(url,hdr):\n",
    "    page = urllib.request.Request(url,headers =hdr)\n",
    "    response = urllib.request.urlopen(page)\n",
    "    rawtext = response.read()\n",
    "    return str(rawtext)\n",
    "\n",
    "hdr1 = {'User-Agent': 'Mozilla/5.0 (X11; Linux x86_64) AppleWebKit/537.11 (KHTML, like Gecko) Chrome/23.0.1271.64 Safari/537.11',\n",
    "       'Accept': 'text/html,application/xhtml+xml,application/xml;q=0.9,*/*;q=0.8',\n",
    "       'Accept-Charset': 'ISO-8859-1,utf-8;q=0.7,*;q=0.3',\n",
    "       'Accept-Encoding': 'none',\n",
    "       'Accept-Language': 'en-US,en;q=0.8',\n",
    "       'Connection': 'keep-alive'}\n",
    "\n",
    "hdr2 = {'User-Agent': 'Mozilla/5.0 (Macintosh; Intel Mac OS X 10_10_1) AppleWebKit/537.36 (KHTML, like Gecko) Chrome/39.0.2171.95 Safari/537.36',\n",
    "        'Accept': 'text/html,application/xhtml+xml,application/xml;q=0.9,*/*;q=0.8',\n",
    "        'Accept-Charset': 'ISO-8859-1,utf-8;q=0.7,*;q=0.3',\n",
    "        'Accept-Encoding': 'none',\n",
    "        'Accept-Language': 'en-US,en;q=0.8',\n",
    "        'Connection': 'keep-alive'}\n",
    "\n",
    "hdrs = [hdr1,hdr2]\n"
   ]
  },
  {
   "cell_type": "code",
   "execution_count": 3,
   "metadata": {
    "scrolled": true
   },
   "outputs": [
    {
     "name": "stdout",
     "output_type": "stream",
     "text": [
      "BLACK+DECKER BDCDMT120C\n",
      "885911373067\n",
      "DEWALT Brush\n",
      "704660055225\n",
      "PORTER-CABLE PCCK604L2\n",
      "885911321549\n"
     ]
    }
   ],
   "source": [
    "def collect_asin():\n",
    "    url = 'https://www.amazon.com/s?k=%s&s=%s'%('drills','salesrank')\n",
    "    rawtext = get_page(url,hdr1)\n",
    "    tree = html.fromstring(rawtext)\n",
    "    search_rows = tree.xpath(\"//*[@class='s-result-list s-search-results sg-row']\")[0]\n",
    "    asins = []\n",
    "    for i in range(10):\n",
    "        if not ('AdHolder' in search_rows[i].attrib['class']) and search_rows[i].attrib['data-asin'] !='':\n",
    "            asins.append(search_rows[i].attrib['data-asin'])\n",
    "    return asins\n",
    "\n",
    "\n",
    "def amazon_table(tree,key):\n",
    "    table =  tree.xpath(\"//*[@id='%s']\"%key)[0]\n",
    "    table = pd.read_html(etree.tostring(table , encoding='utf8', method='html'))[0]\n",
    "    table = table.applymap(lambda s: s[3:-2]) #clean things up\n",
    "    table = table.set_index(0)\n",
    "    return table\n",
    "    \n",
    "\n",
    "def scrape_amazon(asin,hdr):\n",
    "    url = 'https://www.amazon.com/dp/' + asin\n",
    "    rawtext = get_page(url,hdr)\n",
    "    tree = html.fromstring(rawtext)\n",
    "    manuf = tree.xpath(\"//*[@id='bylineInfo']\")[0]\n",
    "    \n",
    "    table1 =  amazon_table(tree,'productDetails_techSpec_section_1')\n",
    "    table2 =  amazon_table(tree,'productDetails_detailBullets_sections1')\n",
    "    \n",
    "    #TODO: get pricing information\n",
    "    #TODO: get seller information\n",
    "    \n",
    "    return manuf.text, table1.loc['Item model number'][1]\n",
    "\n",
    "\n",
    "def lookup_upc(brand,item):\n",
    "    url = 'https://www.upcitemdb.com/upc/%s %s'%(brand,item)\n",
    "    rawtext = get_page(url,hdr)\n",
    "    tree = html.fromstring(rawtext)\n",
    "    link_cand = tree.xpath(\"//*[@class='rImage']\")\n",
    "    return link_cand[0][0].text\n",
    "\n",
    "\n",
    "asin_list = ['B00OJ72LHU','B00IJ0ALYS','B00INRZ5VG'] \n",
    "\n",
    "for i, asin  in enumerate(asin_list):\n",
    "        hdr = [hdr1,hdr2][i%2]\n",
    "        brand,item = scrape_amazon(asin,hdr)\n",
    "        print(brand,item)\n",
    "        upc = lookup_upc(brand,item)\n",
    "        print(upc)"
   ]
  },
  {
   "cell_type": "code",
   "execution_count": 5,
   "metadata": {},
   "outputs": [],
   "source": [
    "upc = '885911321549'\n",
    "url1 = 'https://www.walmart.com/search/?cat_id=0&query=%s'%upc\n",
    "rawtext1 = get_page(url1,hdr1)"
   ]
  },
  {
   "cell_type": "code",
   "execution_count": null,
   "metadata": {
    "scrolled": false
   },
   "outputs": [],
   "source": [
    "def scrape_walmart(upc):\n",
    "\n",
    "    'product-title-link line-clamp line-clamp-2'\n",
    "\n",
    "    \n",
    "scrape_walmart('885911321549')"
   ]
  },
  {
   "cell_type": "code",
   "execution_count": null,
   "metadata": {},
   "outputs": [],
   "source": []
  },
  {
   "cell_type": "code",
   "execution_count": null,
   "metadata": {},
   "outputs": [],
   "source": []
  }
 ],
 "metadata": {
  "kernelspec": {
   "display_name": "Python 3",
   "language": "python",
   "name": "python3"
  },
  "language_info": {
   "codemirror_mode": {
    "name": "ipython",
    "version": 3
   },
   "file_extension": ".py",
   "mimetype": "text/x-python",
   "name": "python",
   "nbconvert_exporter": "python",
   "pygments_lexer": "ipython3",
   "version": "3.7.3"
  }
 },
 "nbformat": 4,
 "nbformat_minor": 2
}
