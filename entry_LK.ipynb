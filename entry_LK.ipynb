{
 "cells": [
  {
   "cell_type": "code",
   "execution_count": 1,
   "metadata": {},
   "outputs": [],
   "source": [
    "import pandas as pd\n",
    "import numpy as np\n",
    "import matplotlib.pyplot as plt\n",
    "import os\n",
    "\n",
    "# Pandas display format\n",
    "pd.set_option('display.float_format', lambda x: '%.3f' % x)"
   ]
  },
  {
   "cell_type": "markdown",
   "metadata": {},
   "source": [
    "Import data"
   ]
  },
  {
   "cell_type": "code",
   "execution_count": 2,
   "metadata": {},
   "outputs": [],
   "source": [
    "entry_df = pd.read_csv(\"drills_data/entry.csv\")\n",
    "prices_df = pd.read_csv(\"drills_data/prices.csv\")"
   ]
  },
  {
   "cell_type": "markdown",
   "metadata": {},
   "source": [
    "# Entry"
   ]
  },
  {
   "cell_type": "markdown",
   "metadata": {},
   "source": [
    "## State level data"
   ]
  },
  {
   "cell_type": "markdown",
   "metadata": {},
   "source": [
    "How many cities?"
   ]
  },
  {
   "cell_type": "code",
   "execution_count": 3,
   "metadata": {},
   "outputs": [
    {
     "name": "stdout",
     "output_type": "stream",
     "text": [
      "1417\n"
     ]
    }
   ],
   "source": [
    "print(len(entry_df.city.unique()))"
   ]
  },
  {
   "cell_type": "markdown",
   "metadata": {},
   "source": [
    "How many states? Why are there 54 states? What are the extra states and why are they being merged into the data?"
   ]
  },
  {
   "cell_type": "code",
   "execution_count": 4,
   "metadata": {},
   "outputs": [
    {
     "name": "stdout",
     "output_type": "stream",
     "text": [
      "54\n"
     ]
    }
   ],
   "source": [
    "print(len(entry_df.state.unique()))"
   ]
  },
  {
   "cell_type": "code",
   "execution_count": 5,
   "metadata": {},
   "outputs": [
    {
     "data": {
      "text/plain": [
       "Index(['HD', 'city', 'state', 'LO', 'city.1', 'state.1', 'address', 'city.2',\n",
       "       'store', 'time', 'url', 'zipcode', 'STATE', 'STATENS', 'STATE_NAME',\n",
       "       'STUSAB', 'NAME', 'population', 'under44_1', 'under44_2', 'under44_3',\n",
       "       'older65_1', 'older_65_2', 'income_per_capita', 'industrial_managers',\n",
       "       'construction_managers', 'farmers', 'realestate',\n",
       "       'construction_workers', 'state:1', 'place'],\n",
       "      dtype='object')"
      ]
     },
     "execution_count": 5,
     "metadata": {},
     "output_type": "execute_result"
    }
   ],
   "source": [
    "entry_df.columns"
   ]
  },
  {
   "cell_type": "markdown",
   "metadata": {},
   "source": [
    "HD maybe number of home depot stores, LO equivalent for HD STATENS, maybe CENSUS identifier, under44, number of people under age 44?older65, number of people over 65"
   ]
  },
  {
   "cell_type": "code",
   "execution_count": 6,
   "metadata": {},
   "outputs": [
    {
     "data": {
      "text/plain": [
       "array([1714934, 1779804, 1779801, 1779795, 1705317, 1102857, 1779799,\n",
       "       1085497,  897535, 1779796, 1155107,  662849, 1779775, 1629543,\n",
       "       1779803, 1779784, 1779778, 1779789, 1779798,  294478, 1455989,\n",
       "       1785533, 1779785, 1325873, 1027616, 1779806, 1779791, 1779779,\n",
       "        448508, 1779787,  606926, 1779777, 1779805,   68085, 1779808,\n",
       "       1779802, 1779780,  767982, 1779790, 1779783, 1779786, 1779793,\n",
       "       1779807, 1779794, 1779781, 1219835, 1779797,  481813, 1779792,\n",
       "       1779782, 1802710, 1785534, 1802705, 1702382])"
      ]
     },
     "execution_count": 6,
     "metadata": {},
     "output_type": "execute_result"
    }
   ],
   "source": [
    "entry_df.STATENS.unique()"
   ]
  },
  {
   "cell_type": "code",
   "execution_count": 7,
   "metadata": {},
   "outputs": [
    {
     "data": {
      "text/plain": [
       "array([ 1,  2,  4,  3,  6,  7,  5, 11, 19,  9, 10,  8, 12])"
      ]
     },
     "execution_count": 7,
     "metadata": {},
     "output_type": "execute_result"
    }
   ],
   "source": [
    "entry_df.HD.unique()"
   ]
  },
  {
   "cell_type": "markdown",
   "metadata": {},
   "source": [
    "## Place level data"
   ]
  },
  {
   "cell_type": "markdown",
   "metadata": {},
   "source": [
    "Place Ids don't seem to be unique? Place id == 100 offers an example, it refers to one location in Aberdeen and one in Absecon"
   ]
  },
  {
   "cell_type": "code",
   "execution_count": 8,
   "metadata": {},
   "outputs": [
    {
     "data": {
      "text/html": [
       "<div>\n",
       "<style scoped>\n",
       "    .dataframe tbody tr th:only-of-type {\n",
       "        vertical-align: middle;\n",
       "    }\n",
       "\n",
       "    .dataframe tbody tr th {\n",
       "        vertical-align: top;\n",
       "    }\n",
       "\n",
       "    .dataframe thead th {\n",
       "        text-align: right;\n",
       "    }\n",
       "</style>\n",
       "<table border=\"1\" class=\"dataframe\">\n",
       "  <thead>\n",
       "    <tr style=\"text-align: right;\">\n",
       "      <th></th>\n",
       "      <th>HD</th>\n",
       "      <th>city</th>\n",
       "      <th>state</th>\n",
       "      <th>LO</th>\n",
       "      <th>city.1</th>\n",
       "      <th>state.1</th>\n",
       "      <th>address</th>\n",
       "      <th>city.2</th>\n",
       "      <th>store</th>\n",
       "      <th>time</th>\n",
       "      <th>...</th>\n",
       "      <th>older65_1</th>\n",
       "      <th>older_65_2</th>\n",
       "      <th>income_per_capita</th>\n",
       "      <th>industrial_managers</th>\n",
       "      <th>construction_managers</th>\n",
       "      <th>farmers</th>\n",
       "      <th>realestate</th>\n",
       "      <th>construction_workers</th>\n",
       "      <th>state:1</th>\n",
       "      <th>place</th>\n",
       "    </tr>\n",
       "  </thead>\n",
       "  <tbody>\n",
       "    <tr>\n",
       "      <td>1</td>\n",
       "      <td>1</td>\n",
       "      <td>Aberdeen</td>\n",
       "      <td>53</td>\n",
       "      <td>nan</td>\n",
       "      <td>NaN</td>\n",
       "      <td>nan</td>\n",
       "      <td>2213 Port Industrial Rd</td>\n",
       "      <td>Aberdeen</td>\n",
       "      <td>HD</td>\n",
       "      <td>1597100892.168</td>\n",
       "      <td>...</td>\n",
       "      <td>1506.000</td>\n",
       "      <td>1061.000</td>\n",
       "      <td>21544.000</td>\n",
       "      <td>nan</td>\n",
       "      <td>nan</td>\n",
       "      <td>nan</td>\n",
       "      <td>nan</td>\n",
       "      <td>nan</td>\n",
       "      <td>53.000</td>\n",
       "      <td>100.000</td>\n",
       "    </tr>\n",
       "    <tr>\n",
       "      <td>3</td>\n",
       "      <td>1</td>\n",
       "      <td>Absecon</td>\n",
       "      <td>34</td>\n",
       "      <td>nan</td>\n",
       "      <td>NaN</td>\n",
       "      <td>nan</td>\n",
       "      <td>421 Absecon Blvd</td>\n",
       "      <td>Absecon</td>\n",
       "      <td>HD</td>\n",
       "      <td>1597100547.438</td>\n",
       "      <td>...</td>\n",
       "      <td>1062.000</td>\n",
       "      <td>789.000</td>\n",
       "      <td>35991.000</td>\n",
       "      <td>nan</td>\n",
       "      <td>nan</td>\n",
       "      <td>nan</td>\n",
       "      <td>nan</td>\n",
       "      <td>nan</td>\n",
       "      <td>34.000</td>\n",
       "      <td>100.000</td>\n",
       "    </tr>\n",
       "  </tbody>\n",
       "</table>\n",
       "<p>2 rows × 31 columns</p>\n",
       "</div>"
      ],
      "text/plain": [
       "   HD      city  state  LO city.1  state.1                  address    city.2  \\\n",
       "1   1  Aberdeen     53 nan    NaN      nan  2213 Port Industrial Rd  Aberdeen   \n",
       "3   1   Absecon     34 nan    NaN      nan         421 Absecon Blvd   Absecon   \n",
       "\n",
       "  store           time  ... older65_1 older_65_2  income_per_capita  \\\n",
       "1    HD 1597100892.168  ...  1506.000   1061.000          21544.000   \n",
       "3    HD 1597100547.438  ...  1062.000    789.000          35991.000   \n",
       "\n",
       "   industrial_managers construction_managers farmers realestate  \\\n",
       "1                  nan                   nan     nan        nan   \n",
       "3                  nan                   nan     nan        nan   \n",
       "\n",
       "   construction_workers  state:1   place  \n",
       "1                   nan   53.000 100.000  \n",
       "3                   nan   34.000 100.000  \n",
       "\n",
       "[2 rows x 31 columns]"
      ]
     },
     "execution_count": 8,
     "metadata": {},
     "output_type": "execute_result"
    }
   ],
   "source": [
    "entry_df[entry_df.place == 100.000]"
   ]
  },
  {
   "cell_type": "code",
   "execution_count": 9,
   "metadata": {},
   "outputs": [
    {
     "data": {
      "text/plain": [
       "(1584, 1336)"
      ]
     },
     "execution_count": 9,
     "metadata": {},
     "output_type": "execute_result"
    }
   ],
   "source": [
    "len(entry_df), len(entry_df.place.unique())"
   ]
  },
  {
   "cell_type": "code",
   "execution_count": 10,
   "metadata": {},
   "outputs": [
    {
     "data": {
      "text/plain": [
       "array([ 1,  2,  4,  3,  6,  7,  5, 11, 19,  9, 10,  8, 12])"
      ]
     },
     "execution_count": 10,
     "metadata": {},
     "output_type": "execute_result"
    }
   ],
   "source": [
    "entry_df.HD.unique()"
   ]
  },
  {
   "cell_type": "markdown",
   "metadata": {},
   "source": [
    "## Census data"
   ]
  },
  {
   "cell_type": "markdown",
   "metadata": {},
   "source": [
    "### All null values"
   ]
  },
  {
   "cell_type": "markdown",
   "metadata": {},
   "source": [
    " Some columns seem to be null. Which ones? "
   ]
  },
  {
   "cell_type": "code",
   "execution_count": 11,
   "metadata": {},
   "outputs": [
    {
     "data": {
      "text/plain": [
       "0        569.000\n",
       "1       1377.000\n",
       "2      19407.000\n",
       "3        708.000\n",
       "4       1963.000\n",
       "          ...   \n",
       "1579     910.000\n",
       "1580   12169.000\n",
       "1581    1429.000\n",
       "1582     127.000\n",
       "1583     210.000\n",
       "Name: under44_1, Length: 1584, dtype: float64"
      ]
     },
     "execution_count": 11,
     "metadata": {},
     "output_type": "execute_result"
    }
   ],
   "source": [
    "entry_df.under44_1"
   ]
  },
  {
   "cell_type": "code",
   "execution_count": 12,
   "metadata": {},
   "outputs": [
    {
     "name": "stdout",
     "output_type": "stream",
     "text": [
      "industrial_managers\n",
      "[nan]\n",
      "--------------\n",
      "construction_managers\n",
      "[nan]\n",
      "--------------\n",
      "farmers\n",
      "[nan]\n",
      "--------------\n",
      "realestate\n",
      "[nan]\n",
      "--------------\n",
      "construction_workers\n",
      "[nan]\n",
      "--------------\n"
     ]
    }
   ],
   "source": [
    "for col in entry_df.columns[-7:-2]:\n",
    "    print(col)\n",
    "    print(entry_df[col].unique())\n",
    "    print('--------------')"
   ]
  },
  {
   "cell_type": "code",
   "execution_count": 13,
   "metadata": {},
   "outputs": [
    {
     "name": "stdout",
     "output_type": "stream",
     "text": [
      "Industrial managers\n"
     ]
    },
    {
     "data": {
      "text/plain": [
       "(array([nan]), array([nan]), array([nan]))"
      ]
     },
     "execution_count": 13,
     "metadata": {},
     "output_type": "execute_result"
    }
   ],
   "source": [
    "print(\"Industrial managers\")\n",
    "entry_df.industrial_managers.unique(), entry_df.construction_managers.unique(), entry_df.farmers.unique()"
   ]
  },
  {
   "cell_type": "markdown",
   "metadata": {},
   "source": [
    "### Population"
   ]
  },
  {
   "cell_type": "markdown",
   "metadata": {},
   "source": [
    "Population may not have been mergered correctly. see google search results for popluation of Aberdeen, MD and Aberdeen, WA"
   ]
  },
  {
   "cell_type": "code",
   "execution_count": 14,
   "metadata": {},
   "outputs": [
    {
     "data": {
      "text/html": [
       "<div>\n",
       "<style scoped>\n",
       "    .dataframe tbody tr th:only-of-type {\n",
       "        vertical-align: middle;\n",
       "    }\n",
       "\n",
       "    .dataframe tbody tr th {\n",
       "        vertical-align: top;\n",
       "    }\n",
       "\n",
       "    .dataframe thead th {\n",
       "        text-align: right;\n",
       "    }\n",
       "</style>\n",
       "<table border=\"1\" class=\"dataframe\">\n",
       "  <thead>\n",
       "    <tr style=\"text-align: right;\">\n",
       "      <th></th>\n",
       "      <th>address</th>\n",
       "      <th>city</th>\n",
       "      <th>state</th>\n",
       "      <th>population</th>\n",
       "    </tr>\n",
       "  </thead>\n",
       "  <tbody>\n",
       "    <tr>\n",
       "      <td>0</td>\n",
       "      <td>979 Beards Hill Road</td>\n",
       "      <td>Aberdeen</td>\n",
       "      <td>24</td>\n",
       "      <td>2723.000</td>\n",
       "    </tr>\n",
       "    <tr>\n",
       "      <td>1</td>\n",
       "      <td>2213 Port Industrial Rd</td>\n",
       "      <td>Aberdeen</td>\n",
       "      <td>53</td>\n",
       "      <td>16359.000</td>\n",
       "    </tr>\n",
       "  </tbody>\n",
       "</table>\n",
       "</div>"
      ],
      "text/plain": [
       "                   address      city  state  population\n",
       "0     979 Beards Hill Road  Aberdeen     24    2723.000\n",
       "1  2213 Port Industrial Rd  Aberdeen     53   16359.000"
      ]
     },
     "execution_count": 14,
     "metadata": {},
     "output_type": "execute_result"
    }
   ],
   "source": [
    "entry_df[['address', 'city', 'state', 'population']].head(2)"
   ]
  },
  {
   "cell_type": "code",
   "execution_count": 15,
   "metadata": {},
   "outputs": [
    {
     "data": {
      "text/html": [
       "<div>\n",
       "<style scoped>\n",
       "    .dataframe tbody tr th:only-of-type {\n",
       "        vertical-align: middle;\n",
       "    }\n",
       "\n",
       "    .dataframe tbody tr th {\n",
       "        vertical-align: top;\n",
       "    }\n",
       "\n",
       "    .dataframe thead th {\n",
       "        text-align: right;\n",
       "    }\n",
       "</style>\n",
       "<table border=\"1\" class=\"dataframe\">\n",
       "  <thead>\n",
       "    <tr style=\"text-align: right;\">\n",
       "      <th></th>\n",
       "      <th>HD</th>\n",
       "      <th>city</th>\n",
       "      <th>state</th>\n",
       "      <th>LO</th>\n",
       "      <th>city.1</th>\n",
       "      <th>state.1</th>\n",
       "      <th>address</th>\n",
       "      <th>city.2</th>\n",
       "      <th>store</th>\n",
       "      <th>time</th>\n",
       "      <th>...</th>\n",
       "      <th>older65_1</th>\n",
       "      <th>older_65_2</th>\n",
       "      <th>income_per_capita</th>\n",
       "      <th>industrial_managers</th>\n",
       "      <th>construction_managers</th>\n",
       "      <th>farmers</th>\n",
       "      <th>realestate</th>\n",
       "      <th>construction_workers</th>\n",
       "      <th>state:1</th>\n",
       "      <th>place</th>\n",
       "    </tr>\n",
       "  </thead>\n",
       "  <tbody>\n",
       "    <tr>\n",
       "      <td>0</td>\n",
       "      <td>1</td>\n",
       "      <td>Aberdeen</td>\n",
       "      <td>24</td>\n",
       "      <td>nan</td>\n",
       "      <td>NaN</td>\n",
       "      <td>nan</td>\n",
       "      <td>979 Beards Hill Road</td>\n",
       "      <td>Aberdeen</td>\n",
       "      <td>HD</td>\n",
       "      <td>1597100429.521</td>\n",
       "      <td>...</td>\n",
       "      <td>18.000</td>\n",
       "      <td>9.000</td>\n",
       "      <td>28641.000</td>\n",
       "      <td>nan</td>\n",
       "      <td>nan</td>\n",
       "      <td>nan</td>\n",
       "      <td>nan</td>\n",
       "      <td>nan</td>\n",
       "      <td>24.000</td>\n",
       "      <td>175.000</td>\n",
       "    </tr>\n",
       "    <tr>\n",
       "      <td>1</td>\n",
       "      <td>1</td>\n",
       "      <td>Aberdeen</td>\n",
       "      <td>53</td>\n",
       "      <td>nan</td>\n",
       "      <td>NaN</td>\n",
       "      <td>nan</td>\n",
       "      <td>2213 Port Industrial Rd</td>\n",
       "      <td>Aberdeen</td>\n",
       "      <td>HD</td>\n",
       "      <td>1597100892.168</td>\n",
       "      <td>...</td>\n",
       "      <td>1506.000</td>\n",
       "      <td>1061.000</td>\n",
       "      <td>21544.000</td>\n",
       "      <td>nan</td>\n",
       "      <td>nan</td>\n",
       "      <td>nan</td>\n",
       "      <td>nan</td>\n",
       "      <td>nan</td>\n",
       "      <td>53.000</td>\n",
       "      <td>100.000</td>\n",
       "    </tr>\n",
       "  </tbody>\n",
       "</table>\n",
       "<p>2 rows × 31 columns</p>\n",
       "</div>"
      ],
      "text/plain": [
       "   HD      city  state  LO city.1  state.1                  address    city.2  \\\n",
       "0   1  Aberdeen     24 nan    NaN      nan     979 Beards Hill Road  Aberdeen   \n",
       "1   1  Aberdeen     53 nan    NaN      nan  2213 Port Industrial Rd  Aberdeen   \n",
       "\n",
       "  store           time  ... older65_1 older_65_2  income_per_capita  \\\n",
       "0    HD 1597100429.521  ...    18.000      9.000          28641.000   \n",
       "1    HD 1597100892.168  ...  1506.000   1061.000          21544.000   \n",
       "\n",
       "   industrial_managers construction_managers farmers realestate  \\\n",
       "0                  nan                   nan     nan        nan   \n",
       "1                  nan                   nan     nan        nan   \n",
       "\n",
       "   construction_workers  state:1   place  \n",
       "0                   nan   24.000 175.000  \n",
       "1                   nan   53.000 100.000  \n",
       "\n",
       "[2 rows x 31 columns]"
      ]
     },
     "execution_count": 15,
     "metadata": {},
     "output_type": "execute_result"
    }
   ],
   "source": [
    "entry_df.head(2)"
   ]
  },
  {
   "cell_type": "code",
   "execution_count": 16,
   "metadata": {},
   "outputs": [
    {
     "data": {
      "text/plain": [
       "array(['HD', 'LOW'], dtype=object)"
      ]
     },
     "execution_count": 16,
     "metadata": {},
     "output_type": "execute_result"
    }
   ],
   "source": [
    "entry_df.store.unique()"
   ]
  },
  {
   "cell_type": "code",
   "execution_count": 17,
   "metadata": {},
   "outputs": [
    {
     "data": {
      "text/html": [
       "<div>\n",
       "<style scoped>\n",
       "    .dataframe tbody tr th:only-of-type {\n",
       "        vertical-align: middle;\n",
       "    }\n",
       "\n",
       "    .dataframe tbody tr th {\n",
       "        vertical-align: top;\n",
       "    }\n",
       "\n",
       "    .dataframe thead th {\n",
       "        text-align: right;\n",
       "    }\n",
       "</style>\n",
       "<table border=\"1\" class=\"dataframe\">\n",
       "  <thead>\n",
       "    <tr style=\"text-align: right;\">\n",
       "      <th></th>\n",
       "      <th>city</th>\n",
       "      <th>state</th>\n",
       "      <th>population</th>\n",
       "    </tr>\n",
       "  </thead>\n",
       "  <tbody>\n",
       "    <tr>\n",
       "      <td>0</td>\n",
       "      <td>Aberdeen</td>\n",
       "      <td>24</td>\n",
       "      <td>2723.000</td>\n",
       "    </tr>\n",
       "    <tr>\n",
       "      <td>1</td>\n",
       "      <td>Aberdeen</td>\n",
       "      <td>53</td>\n",
       "      <td>16359.000</td>\n",
       "    </tr>\n",
       "    <tr>\n",
       "      <td>2</td>\n",
       "      <td>Abilene</td>\n",
       "      <td>48</td>\n",
       "      <td>123676.000</td>\n",
       "    </tr>\n",
       "    <tr>\n",
       "      <td>3</td>\n",
       "      <td>Absecon</td>\n",
       "      <td>34</td>\n",
       "      <td>8289.000</td>\n",
       "    </tr>\n",
       "    <tr>\n",
       "      <td>4</td>\n",
       "      <td>Acworth</td>\n",
       "      <td>13</td>\n",
       "      <td>22336.000</td>\n",
       "    </tr>\n",
       "    <tr>\n",
       "      <td>...</td>\n",
       "      <td>...</td>\n",
       "      <td>...</td>\n",
       "      <td>...</td>\n",
       "    </tr>\n",
       "    <tr>\n",
       "      <td>1579</td>\n",
       "      <td>Yulee</td>\n",
       "      <td>12</td>\n",
       "      <td>12616.000</td>\n",
       "    </tr>\n",
       "    <tr>\n",
       "      <td>1580</td>\n",
       "      <td>Yuma</td>\n",
       "      <td>4</td>\n",
       "      <td>95573.000</td>\n",
       "    </tr>\n",
       "    <tr>\n",
       "      <td>1581</td>\n",
       "      <td>Zachary</td>\n",
       "      <td>22</td>\n",
       "      <td>17056.000</td>\n",
       "    </tr>\n",
       "    <tr>\n",
       "      <td>1582</td>\n",
       "      <td>Zanesville</td>\n",
       "      <td>39</td>\n",
       "      <td>2253.000</td>\n",
       "    </tr>\n",
       "    <tr>\n",
       "      <td>1583</td>\n",
       "      <td>Zephyrhills</td>\n",
       "      <td>12</td>\n",
       "      <td>5163.000</td>\n",
       "    </tr>\n",
       "  </tbody>\n",
       "</table>\n",
       "<p>1584 rows × 3 columns</p>\n",
       "</div>"
      ],
      "text/plain": [
       "             city  state  population\n",
       "0        Aberdeen     24    2723.000\n",
       "1        Aberdeen     53   16359.000\n",
       "2         Abilene     48  123676.000\n",
       "3         Absecon     34    8289.000\n",
       "4         Acworth     13   22336.000\n",
       "...           ...    ...         ...\n",
       "1579        Yulee     12   12616.000\n",
       "1580         Yuma      4   95573.000\n",
       "1581      Zachary     22   17056.000\n",
       "1582   Zanesville     39    2253.000\n",
       "1583  Zephyrhills     12    5163.000\n",
       "\n",
       "[1584 rows x 3 columns]"
      ]
     },
     "execution_count": 17,
     "metadata": {},
     "output_type": "execute_result"
    }
   ],
   "source": [
    "entry_df[['city', 'state','population']]"
   ]
  },
  {
   "cell_type": "code",
   "execution_count": 18,
   "metadata": {},
   "outputs": [
    {
     "data": {
      "text/html": [
       "<div>\n",
       "<style scoped>\n",
       "    .dataframe tbody tr th:only-of-type {\n",
       "        vertical-align: middle;\n",
       "    }\n",
       "\n",
       "    .dataframe tbody tr th {\n",
       "        vertical-align: top;\n",
       "    }\n",
       "\n",
       "    .dataframe thead th {\n",
       "        text-align: right;\n",
       "    }\n",
       "</style>\n",
       "<table border=\"1\" class=\"dataframe\">\n",
       "  <thead>\n",
       "    <tr style=\"text-align: right;\">\n",
       "      <th></th>\n",
       "      <th>HD</th>\n",
       "      <th>state</th>\n",
       "      <th>LO</th>\n",
       "      <th>state.1</th>\n",
       "      <th>time</th>\n",
       "      <th>STATE</th>\n",
       "      <th>STATENS</th>\n",
       "      <th>population</th>\n",
       "      <th>under44_1</th>\n",
       "      <th>under44_2</th>\n",
       "      <th>...</th>\n",
       "      <th>older65_1</th>\n",
       "      <th>older_65_2</th>\n",
       "      <th>income_per_capita</th>\n",
       "      <th>industrial_managers</th>\n",
       "      <th>construction_managers</th>\n",
       "      <th>farmers</th>\n",
       "      <th>realestate</th>\n",
       "      <th>construction_workers</th>\n",
       "      <th>state:1</th>\n",
       "      <th>place</th>\n",
       "    </tr>\n",
       "  </thead>\n",
       "  <tbody>\n",
       "    <tr>\n",
       "      <td>count</td>\n",
       "      <td>1584.000</td>\n",
       "      <td>1584.000</td>\n",
       "      <td>633.000</td>\n",
       "      <td>633.000</td>\n",
       "      <td>1584.000</td>\n",
       "      <td>1584.000</td>\n",
       "      <td>1584.000</td>\n",
       "      <td>1449.000</td>\n",
       "      <td>1443.000</td>\n",
       "      <td>1443.000</td>\n",
       "      <td>...</td>\n",
       "      <td>1443.000</td>\n",
       "      <td>1443.000</td>\n",
       "      <td>1448.000</td>\n",
       "      <td>0.000</td>\n",
       "      <td>0.000</td>\n",
       "      <td>0.000</td>\n",
       "      <td>0.000</td>\n",
       "      <td>0.000</td>\n",
       "      <td>1449.000</td>\n",
       "      <td>1449.000</td>\n",
       "    </tr>\n",
       "    <tr>\n",
       "      <td>mean</td>\n",
       "      <td>1.254</td>\n",
       "      <td>27.140</td>\n",
       "      <td>1.273</td>\n",
       "      <td>28.051</td>\n",
       "      <td>1597122062.546</td>\n",
       "      <td>27.140</td>\n",
       "      <td>1503873.972</td>\n",
       "      <td>69471.618</td>\n",
       "      <td>7389.017</td>\n",
       "      <td>10960.044</td>\n",
       "      <td>...</td>\n",
       "      <td>5274.622</td>\n",
       "      <td>3868.283</td>\n",
       "      <td>-888759.182</td>\n",
       "      <td>nan</td>\n",
       "      <td>nan</td>\n",
       "      <td>nan</td>\n",
       "      <td>nan</td>\n",
       "      <td>nan</td>\n",
       "      <td>26.834</td>\n",
       "      <td>42784.767</td>\n",
       "    </tr>\n",
       "    <tr>\n",
       "      <td>std</td>\n",
       "      <td>0.995</td>\n",
       "      <td>16.300</td>\n",
       "      <td>0.817</td>\n",
       "      <td>16.531</td>\n",
       "      <td>33131.202</td>\n",
       "      <td>16.300</td>\n",
       "      <td>492406.700</td>\n",
       "      <td>146346.169</td>\n",
       "      <td>15760.372</td>\n",
       "      <td>26923.922</td>\n",
       "      <td>...</td>\n",
       "      <td>10172.375</td>\n",
       "      <td>7216.405</td>\n",
       "      <td>24769104.354</td>\n",
       "      <td>nan</td>\n",
       "      <td>nan</td>\n",
       "      <td>nan</td>\n",
       "      <td>nan</td>\n",
       "      <td>nan</td>\n",
       "      <td>16.378</td>\n",
       "      <td>24245.218</td>\n",
       "    </tr>\n",
       "    <tr>\n",
       "      <td>min</td>\n",
       "      <td>1.000</td>\n",
       "      <td>1.000</td>\n",
       "      <td>1.000</td>\n",
       "      <td>1.000</td>\n",
       "      <td>1597100286.471</td>\n",
       "      <td>1.000</td>\n",
       "      <td>68085.000</td>\n",
       "      <td>0.000</td>\n",
       "      <td>0.000</td>\n",
       "      <td>0.000</td>\n",
       "      <td>...</td>\n",
       "      <td>0.000</td>\n",
       "      <td>0.000</td>\n",
       "      <td>-666666666.000</td>\n",
       "      <td>nan</td>\n",
       "      <td>nan</td>\n",
       "      <td>nan</td>\n",
       "      <td>nan</td>\n",
       "      <td>nan</td>\n",
       "      <td>1.000</td>\n",
       "      <td>100.000</td>\n",
       "    </tr>\n",
       "    <tr>\n",
       "      <td>25%</td>\n",
       "      <td>1.000</td>\n",
       "      <td>12.000</td>\n",
       "      <td>1.000</td>\n",
       "      <td>12.000</td>\n",
       "      <td>1597100379.109</td>\n",
       "      <td>12.000</td>\n",
       "      <td>1423460.000</td>\n",
       "      <td>12909.000</td>\n",
       "      <td>1053.500</td>\n",
       "      <td>1680.500</td>\n",
       "      <td>...</td>\n",
       "      <td>1089.000</td>\n",
       "      <td>848.500</td>\n",
       "      <td>24346.250</td>\n",
       "      <td>nan</td>\n",
       "      <td>nan</td>\n",
       "      <td>nan</td>\n",
       "      <td>nan</td>\n",
       "      <td>nan</td>\n",
       "      <td>12.000</td>\n",
       "      <td>21796.000</td>\n",
       "    </tr>\n",
       "    <tr>\n",
       "      <td>50%</td>\n",
       "      <td>1.000</td>\n",
       "      <td>26.000</td>\n",
       "      <td>1.000</td>\n",
       "      <td>29.000</td>\n",
       "      <td>1597100605.555</td>\n",
       "      <td>26.000</td>\n",
       "      <td>1779779.000</td>\n",
       "      <td>30840.000</td>\n",
       "      <td>2869.000</td>\n",
       "      <td>4164.000</td>\n",
       "      <td>...</td>\n",
       "      <td>2502.000</td>\n",
       "      <td>1925.000</td>\n",
       "      <td>29674.000</td>\n",
       "      <td>nan</td>\n",
       "      <td>nan</td>\n",
       "      <td>nan</td>\n",
       "      <td>nan</td>\n",
       "      <td>nan</td>\n",
       "      <td>26.000</td>\n",
       "      <td>43930.000</td>\n",
       "    </tr>\n",
       "    <tr>\n",
       "      <td>75%</td>\n",
       "      <td>1.000</td>\n",
       "      <td>41.000</td>\n",
       "      <td>1.000</td>\n",
       "      <td>45.000</td>\n",
       "      <td>1597172338.610</td>\n",
       "      <td>41.000</td>\n",
       "      <td>1779796.000</td>\n",
       "      <td>73392.000</td>\n",
       "      <td>7011.000</td>\n",
       "      <td>10665.500</td>\n",
       "      <td>...</td>\n",
       "      <td>5736.000</td>\n",
       "      <td>4398.000</td>\n",
       "      <td>37083.000</td>\n",
       "      <td>nan</td>\n",
       "      <td>nan</td>\n",
       "      <td>nan</td>\n",
       "      <td>nan</td>\n",
       "      <td>nan</td>\n",
       "      <td>41.000</td>\n",
       "      <td>62546.000</td>\n",
       "    </tr>\n",
       "    <tr>\n",
       "      <td>max</td>\n",
       "      <td>19.000</td>\n",
       "      <td>78.000</td>\n",
       "      <td>10.000</td>\n",
       "      <td>56.000</td>\n",
       "      <td>1597173827.094</td>\n",
       "      <td>78.000</td>\n",
       "      <td>1802710.000</td>\n",
       "      <td>2718555.000</td>\n",
       "      <td>276678.000</td>\n",
       "      <td>536817.000</td>\n",
       "      <td>...</td>\n",
       "      <td>189225.000</td>\n",
       "      <td>137757.000</td>\n",
       "      <td>216416.000</td>\n",
       "      <td>nan</td>\n",
       "      <td>nan</td>\n",
       "      <td>nan</td>\n",
       "      <td>nan</td>\n",
       "      <td>nan</td>\n",
       "      <td>72.000</td>\n",
       "      <td>89140.000</td>\n",
       "    </tr>\n",
       "  </tbody>\n",
       "</table>\n",
       "<p>8 rows × 21 columns</p>\n",
       "</div>"
      ],
      "text/plain": [
       "            HD    state      LO  state.1           time    STATE     STATENS  \\\n",
       "count 1584.000 1584.000 633.000  633.000       1584.000 1584.000    1584.000   \n",
       "mean     1.254   27.140   1.273   28.051 1597122062.546   27.140 1503873.972   \n",
       "std      0.995   16.300   0.817   16.531      33131.202   16.300  492406.700   \n",
       "min      1.000    1.000   1.000    1.000 1597100286.471    1.000   68085.000   \n",
       "25%      1.000   12.000   1.000   12.000 1597100379.109   12.000 1423460.000   \n",
       "50%      1.000   26.000   1.000   29.000 1597100605.555   26.000 1779779.000   \n",
       "75%      1.000   41.000   1.000   45.000 1597172338.610   41.000 1779796.000   \n",
       "max     19.000   78.000  10.000   56.000 1597173827.094   78.000 1802710.000   \n",
       "\n",
       "       population  under44_1  under44_2  ...  older65_1  older_65_2  \\\n",
       "count    1449.000   1443.000   1443.000  ...   1443.000    1443.000   \n",
       "mean    69471.618   7389.017  10960.044  ...   5274.622    3868.283   \n",
       "std    146346.169  15760.372  26923.922  ...  10172.375    7216.405   \n",
       "min         0.000      0.000      0.000  ...      0.000       0.000   \n",
       "25%     12909.000   1053.500   1680.500  ...   1089.000     848.500   \n",
       "50%     30840.000   2869.000   4164.000  ...   2502.000    1925.000   \n",
       "75%     73392.000   7011.000  10665.500  ...   5736.000    4398.000   \n",
       "max   2718555.000 276678.000 536817.000  ... 189225.000  137757.000   \n",
       "\n",
       "       income_per_capita  industrial_managers  construction_managers  farmers  \\\n",
       "count           1448.000                0.000                  0.000    0.000   \n",
       "mean         -888759.182                  nan                    nan      nan   \n",
       "std         24769104.354                  nan                    nan      nan   \n",
       "min       -666666666.000                  nan                    nan      nan   \n",
       "25%            24346.250                  nan                    nan      nan   \n",
       "50%            29674.000                  nan                    nan      nan   \n",
       "75%            37083.000                  nan                    nan      nan   \n",
       "max           216416.000                  nan                    nan      nan   \n",
       "\n",
       "       realestate  construction_workers  state:1     place  \n",
       "count       0.000                 0.000 1449.000  1449.000  \n",
       "mean          nan                   nan   26.834 42784.767  \n",
       "std           nan                   nan   16.378 24245.218  \n",
       "min           nan                   nan    1.000   100.000  \n",
       "25%           nan                   nan   12.000 21796.000  \n",
       "50%           nan                   nan   26.000 43930.000  \n",
       "75%           nan                   nan   41.000 62546.000  \n",
       "max           nan                   nan   72.000 89140.000  \n",
       "\n",
       "[8 rows x 21 columns]"
      ]
     },
     "execution_count": 18,
     "metadata": {},
     "output_type": "execute_result"
    }
   ],
   "source": [
    "entry_df.describe()"
   ]
  },
  {
   "cell_type": "code",
   "execution_count": null,
   "metadata": {},
   "outputs": [],
   "source": []
  },
  {
   "cell_type": "code",
   "execution_count": null,
   "metadata": {},
   "outputs": [],
   "source": []
  }
 ],
 "metadata": {
  "kernelspec": {
   "display_name": "Python 3",
   "language": "python",
   "name": "python3"
  },
  "language_info": {
   "codemirror_mode": {
    "name": "ipython",
    "version": 3
   },
   "file_extension": ".py",
   "mimetype": "text/x-python",
   "name": "python",
   "nbconvert_exporter": "python",
   "pygments_lexer": "ipython3",
   "version": "3.7.4"
  }
 },
 "nbformat": 4,
 "nbformat_minor": 4
}
