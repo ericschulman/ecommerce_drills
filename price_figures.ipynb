{
 "cells": [
  {
   "cell_type": "code",
   "execution_count": 1,
   "metadata": {},
   "outputs": [],
   "source": [
    "import matplotlib.pyplot as plt\n",
    "import numpy as np\n",
    "import pandas as pd\n",
    "import datetime\n",
    "import statsmodels.api as sm"
   ]
  },
  {
   "cell_type": "code",
   "execution_count": 2,
   "metadata": {},
   "outputs": [
    {
     "name": "stdout",
     "output_type": "stream",
     "text": [
      "Index(['platform', 'website', 'date', 'zipcode', 'rank', 'page', 'query',\n",
      "       'prod_id', 'upc', 'product', 'manufacturer', 'model', 'price',\n",
      "       'list_price', 'in_stock', 'max_qty', 'seller', 'arrives', 'shipping',\n",
      "       'shipping_price', 'shipping_options', 'store_stock', 'store_address',\n",
      "       'store_zip', 'store_price', 'weight', 'reviews', 'rating', 'quantity1',\n",
      "       'quantity2', 'quantity3', 'quantity4', 'quantity5', 'ads'],\n",
      "      dtype='object')\n"
     ]
    }
   ],
   "source": [
    "data_folder = \"data/\"\n",
    "prices = pd.read_csv(data_folder + \"prices.csv\")\n",
    "prices = prices.dropna(subset=['rating'])\n",
    "print(prices.columns)"
   ]
  },
  {
   "cell_type": "code",
   "execution_count": 3,
   "metadata": {},
   "outputs": [],
   "source": [
    "def calc_rank(prices):\n",
    "    return 22 - (prices['rank'] + (prices['rank'] == 0)*21)\n",
    "\n",
    "def calc_inven(prices):\n",
    "    quants = {'AMZN':'quantity3','WMT':'quantity3', 'HD':'quantity1', 'LOW':'quantity1' }\n",
    "    platforms  = ['AMZN','WMT','HD','LOW']\n",
    "    inventory = prices['in_stock'].fillna(0)\n",
    "    \n",
    "    for plat in platforms:\n",
    "        inventory[prices['platform']==plat] = prices[quants[plat]][prices['platform']==plat].fillna(0)\n",
    "    \n",
    "    inventory = (inventory == 0)*prices['in_stock'].fillna(0)*prices['max_qty'].fillna(0) + inventory\n",
    "\n",
    "    return inventory\n",
    "        \n",
    "        \n",
    "\n",
    "def calc_promo(prices):\n",
    "    platforms = ['AMZN','WMT','HD','LOW']\n",
    "    promo_dict = {'AMZN':'quantity4','WMT':'quantity2', 'HD':'quantity2', 'LOW':'quantity2' }\n",
    "    promo = 1.*(prices['price'] <= prices['list_price'])\n",
    "    promo = promo.fillna(0)\n",
    "    for plat in platforms:\n",
    "        plat_promo = np.array(prices[promo_dict[plat]][prices['platform']==plat].fillna(0))\n",
    "        promo[prices['platform']==plat] = np.minimum(plat_promo + promo[prices['platform']==plat],1)\n",
    "    return promo\n",
    "    \n",
    "    \n",
    "def calc_ship(prices):\n",
    "    ship = ( prices['arrives'] - prices['date'] )/1e8\n",
    "    ship = ship.fillna(7)\n",
    "    ship = np.array(ship).reshape(ship.shape[0],1)\n",
    "    \n",
    "    meanings = {'FREE Shipping on orders over $25':2, '—':2,\n",
    "                'Free delivery':2,'Next-day delivery':1,\n",
    "                'Same-day delivery':1, 'Available!':2,\n",
    "               'Delivery available':7, 'EXPEDITED':2, \n",
    "                'ONE_DAY':1, 'STANDARD':7 }\n",
    "    \n",
    "    lookup = lambda x :  meanings[x] if x in meanings.keys() else 7\n",
    "    \n",
    "    ship_words =  prices['shipping'].apply(lookup)    \n",
    "    ship = ship_words*(ship_words !=7) + ship_words*(ship_words == 7)\n",
    "    return ship_words\n",
    "\n",
    "\n",
    "def calc_purch(prices):\n",
    "    pass"
   ]
  },
  {
   "cell_type": "code",
   "execution_count": 4,
   "metadata": {},
   "outputs": [
    {
     "data": {
      "text/plain": [
       "array([[ 1.        , -0.10226604],\n",
       "       [-0.10226604,  1.        ]])"
      ]
     },
     "execution_count": 4,
     "metadata": {},
     "output_type": "execute_result"
    }
   ],
   "source": [
    "prices['new_rank'] = calc_rank(prices)\n",
    "prices['inventory'] = calc_inven(prices)\n",
    "prices['promos'] = calc_promo(prices)\n",
    "prices['shipping_days'] = calc_ship(prices)\n",
    "\n",
    "top_items = prices[['manufacturer','model']].groupby(['manufacturer','model']).size().reset_index()\n",
    "top_items = top_items.nlargest(10, columns = 0)\n",
    "\n",
    "clean_price = pd.DataFrame(columns=list(prices.columns) )\n",
    "\n",
    "for index, row in top_items.iterrows():\n",
    "    manuf,model = row['manufacturer'],row['model']\n",
    "    prod1 = prices[ (prices['manufacturer'] ==manuf) & (prices['model']==model) ]\n",
    "    clean_price = clean_price.append(prod1, ignore_index=True)\n",
    "    \n",
    "    \n",
    "clean_price =clean_price.dropna(subset=['price','inventory'])\n",
    "np.corrcoef(clean_price['price'],clean_price['inventory'])"
   ]
  },
  {
   "cell_type": "code",
   "execution_count": 5,
   "metadata": {
    "scrolled": false
   },
   "outputs": [
    {
     "name": "stdout",
     "output_type": "stream",
     "text": [
      "                            OLS Regression Results                            \n",
      "==============================================================================\n",
      "Dep. Variable:                  price   R-squared:                       0.849\n",
      "Model:                            OLS   Adj. R-squared:                  0.849\n",
      "Method:                 Least Squares   F-statistic:                     1670.\n",
      "Date:                Tue, 10 May 2022   Prob (F-statistic):               0.00\n",
      "Time:                        10:44:24   Log-Likelihood:                -16225.\n",
      "No. Observations:                3272   AIC:                         3.247e+04\n",
      "Df Residuals:                    3260   BIC:                         3.255e+04\n",
      "Df Model:                          11                                         \n",
      "Covariance Type:            nonrobust                                         \n",
      "==============================================================================\n",
      "                 coef    std err          t      P>|t|      [0.025      0.975]\n",
      "------------------------------------------------------------------------------\n",
      "inventory     -0.8920      0.068    -13.132      0.000      -1.025      -0.759\n",
      "new_rank       0.1593      0.099      1.604      0.109      -0.035       0.354\n",
      "6445-04       45.3473      2.140     21.188      0.000      41.151      49.544\n",
      "BDCDMT120C    56.0571      1.992     28.139      0.000      52.151      59.963\n",
      "DCD771C2     108.2845      2.028     53.392      0.000     104.308     112.261\n",
      "DCK240C2     148.6686      2.156     68.941      0.000     144.440     152.897\n",
      "DCK283D2     236.8436      2.016    117.473      0.000     232.890     240.797\n",
      "DCK287D1M1   275.7187      2.017    136.697      0.000     271.764     279.673\n",
      "DL1137        34.0274      2.326     14.628      0.000      29.466      38.588\n",
      "DR260C        32.9618      1.852     17.800      0.000      29.331      36.593\n",
      "LDX120C       57.1718      1.910     29.935      0.000      53.427      60.916\n",
      "PCC601LB      89.4620      2.158     41.447      0.000      85.230      93.694\n",
      "==============================================================================\n",
      "Omnibus:                     2540.644   Durbin-Watson:                   2.085\n",
      "Prob(Omnibus):                  0.000   Jarque-Bera (JB):            61525.559\n",
      "Skew:                          -3.533   Prob(JB):                         0.00\n",
      "Kurtosis:                      23.034   Cond. No.                         74.4\n",
      "==============================================================================\n",
      "\n",
      "Notes:\n",
      "[1] Standard Errors assume that the covariance matrix of the errors is correctly specified.\n",
      "                            OLS Regression Results                            \n",
      "==============================================================================\n",
      "Dep. Variable:                l_price   R-squared:                       0.840\n",
      "Model:                            OLS   Adj. R-squared:                  0.839\n",
      "Method:                 Least Squares   F-statistic:                     1556.\n",
      "Date:                Tue, 10 May 2022   Prob (F-statistic):               0.00\n",
      "Time:                        10:44:24   Log-Likelihood:                -952.48\n",
      "No. Observations:                3272   AIC:                             1929.\n",
      "Df Residuals:                    3260   BIC:                             2002.\n",
      "Df Model:                          11                                         \n",
      "Covariance Type:            nonrobust                                         \n",
      "===============================================================================\n",
      "                  coef    std err          t      P>|t|      [0.025      0.975]\n",
      "-------------------------------------------------------------------------------\n",
      "l_inventory    -0.0499      0.006     -8.918      0.000      -0.061      -0.039\n",
      "l_new_rank     -0.0033      0.007     -0.481      0.630      -0.017       0.010\n",
      "6445-04         3.7921      0.022    172.519      0.000       3.749       3.835\n",
      "BDCDMT120C      3.9589      0.020    195.361      0.000       3.919       3.999\n",
      "DCD771C2        4.6787      0.021    227.372      0.000       4.638       4.719\n",
      "DCK240C2        4.9410      0.022    229.210      0.000       4.899       4.983\n",
      "DCK283D2        5.4471      0.021    265.147      0.000       5.407       5.487\n",
      "DCK287D1M1      5.5910      0.020    273.166      0.000       5.551       5.631\n",
      "DL1137          3.5045      0.023    150.518      0.000       3.459       3.550\n",
      "DR260C          3.4165      0.020    171.340      0.000       3.377       3.456\n",
      "LDX120C         3.9775      0.019    204.113      0.000       3.939       4.016\n",
      "PCC601LB        4.5089      0.021    212.833      0.000       4.467       4.550\n",
      "==============================================================================\n",
      "Omnibus:                     2476.236   Durbin-Watson:                   2.168\n",
      "Prob(Omnibus):                  0.000   Jarque-Bera (JB):            43876.335\n",
      "Skew:                          -3.535   Prob(JB):                         0.00\n",
      "Kurtosis:                      19.487   Cond. No.                         17.5\n",
      "==============================================================================\n",
      "\n",
      "Notes:\n",
      "[1] Standard Errors assume that the covariance matrix of the errors is correctly specified.\n"
     ]
    }
   ],
   "source": [
    "clean_price =clean_price.dropna(subset=['price','inventory', 'rank'])\n",
    "dummies = pd.get_dummies(clean_price['model'])\n",
    "dummies_labels = list(dummies.columns)\n",
    "join_price = pd.concat([clean_price, dummies],axis=1)\n",
    "model = sm.OLS(join_price['price'], join_price[ ['inventory','new_rank'] + dummies_labels ])\n",
    "res = model.fit()\n",
    "print(res.summary())\n",
    "\n",
    "join_price[['l_price','l_inventory','l_new_rank']] = np.log( join_price[ ['price','inventory','new_rank'] ] + 1)\n",
    "model2 = sm.OLS(join_price['l_price'], join_price[ ['l_inventory','l_new_rank'] + dummies_labels ])\n",
    "res2 = model2.fit()\n",
    "print(res2.summary())"
   ]
  },
  {
   "cell_type": "code",
   "execution_count": 6,
   "metadata": {},
   "outputs": [
    {
     "name": "stdout",
     "output_type": "stream",
     "text": [
      "Optimization terminated successfully.\n",
      "         Current function value: 0.547780\n",
      "         Iterations 6\n",
      "        Logit Marginal Effects       \n",
      "=====================================\n",
      "Dep. Variable:                 promos\n",
      "Method:                          dydx\n",
      "At:                           overall\n",
      "==============================================================================\n",
      "                dy/dx    std err          z      P>|z|      [0.025      0.975]\n",
      "------------------------------------------------------------------------------\n",
      "inventory     -0.0003      0.001     -0.376      0.707      -0.002       0.001\n",
      "new_rank       0.0171      0.001     15.630      0.000       0.015       0.019\n",
      "6445-04        0.3418      0.037      9.338      0.000       0.270       0.414\n",
      "BDCDMT120C    -0.0025      0.023     -0.110      0.913      -0.047       0.042\n",
      "DCD771C2       0.1237      0.026      4.748      0.000       0.073       0.175\n",
      "DCK240C2      -0.1302      0.024     -5.405      0.000      -0.177      -0.083\n",
      "DCK283D2      -0.2097      0.023     -9.175      0.000      -0.255      -0.165\n",
      "DCK287D1M1    -0.3606      0.026    -14.108      0.000      -0.411      -0.311\n",
      "DL1137        -0.1070      0.027     -4.034      0.000      -0.159      -0.055\n",
      "DR260C         0.0058      0.021      0.274      0.784      -0.036       0.048\n",
      "LDX120C       -0.2400      0.022    -10.993      0.000      -0.283      -0.197\n",
      "PCC601LB      -0.3426      0.028    -12.149      0.000      -0.398      -0.287\n",
      "==============================================================================\n"
     ]
    }
   ],
   "source": [
    "\n",
    "model = sm.Logit(join_price['promos'], join_price[ ['inventory','new_rank'] + dummies_labels ])\n",
    "res = model.fit()\n",
    "print(res.get_margeff().summary())"
   ]
  },
  {
   "cell_type": "code",
   "execution_count": 7,
   "metadata": {},
   "outputs": [
    {
     "ename": "FileNotFoundError",
     "evalue": "[Errno 2] No such file or directory: 'figures/LDX120C.png'",
     "output_type": "error",
     "traceback": [
      "\u001b[0;31m---------------------------------------------------------------------------\u001b[0m",
      "\u001b[0;31mFileNotFoundError\u001b[0m                         Traceback (most recent call last)",
      "\u001b[0;32m/tmp/ipykernel_166980/4223717770.py\u001b[0m in \u001b[0;36m<module>\u001b[0;34m\u001b[0m\n\u001b[1;32m     21\u001b[0m \u001b[0;34m\u001b[0m\u001b[0m\n\u001b[1;32m     22\u001b[0m \u001b[0;32mfor\u001b[0m \u001b[0mmodel\u001b[0m \u001b[0;32min\u001b[0m \u001b[0mmodels\u001b[0m\u001b[0;34m:\u001b[0m\u001b[0;34m\u001b[0m\u001b[0;34m\u001b[0m\u001b[0m\n\u001b[0;32m---> 23\u001b[0;31m     \u001b[0mprice_match\u001b[0m\u001b[0;34m(\u001b[0m\u001b[0mmodel\u001b[0m\u001b[0;34m,\u001b[0m\u001b[0mclean_price\u001b[0m\u001b[0;34m)\u001b[0m\u001b[0;34m\u001b[0m\u001b[0;34m\u001b[0m\u001b[0m\n\u001b[0m",
      "\u001b[0;32m/tmp/ipykernel_166980/4223717770.py\u001b[0m in \u001b[0;36mprice_match\u001b[0;34m(model, prices)\u001b[0m\n\u001b[1;32m     16\u001b[0m     \u001b[0mplt\u001b[0m\u001b[0;34m.\u001b[0m\u001b[0mylabel\u001b[0m\u001b[0;34m(\u001b[0m\u001b[0;34m'Price'\u001b[0m\u001b[0;34m)\u001b[0m\u001b[0;34m\u001b[0m\u001b[0;34m\u001b[0m\u001b[0m\n\u001b[1;32m     17\u001b[0m     \u001b[0mplt\u001b[0m\u001b[0;34m.\u001b[0m\u001b[0mtitle\u001b[0m\u001b[0;34m(\u001b[0m \u001b[0;34m'Prices over time %s'\u001b[0m\u001b[0;34m%\u001b[0m\u001b[0mmodel\u001b[0m \u001b[0;34m)\u001b[0m\u001b[0;34m\u001b[0m\u001b[0;34m\u001b[0m\u001b[0m\n\u001b[0;32m---> 18\u001b[0;31m     \u001b[0mplt\u001b[0m\u001b[0;34m.\u001b[0m\u001b[0msavefig\u001b[0m\u001b[0;34m(\u001b[0m\u001b[0;34m'figures/%s.png'\u001b[0m\u001b[0;34m%\u001b[0m\u001b[0mmodel\u001b[0m\u001b[0;34m)\u001b[0m\u001b[0;34m\u001b[0m\u001b[0;34m\u001b[0m\u001b[0m\n\u001b[0m\u001b[1;32m     19\u001b[0m     \u001b[0mplt\u001b[0m\u001b[0;34m.\u001b[0m\u001b[0mshow\u001b[0m\u001b[0;34m(\u001b[0m\u001b[0;34m)\u001b[0m\u001b[0;34m\u001b[0m\u001b[0;34m\u001b[0m\u001b[0m\n\u001b[1;32m     20\u001b[0m \u001b[0;34m\u001b[0m\u001b[0m\n",
      "\u001b[0;32m~/anaconda3/lib/python3.9/site-packages/matplotlib/pyplot.py\u001b[0m in \u001b[0;36msavefig\u001b[0;34m(*args, **kwargs)\u001b[0m\n\u001b[1;32m    964\u001b[0m \u001b[0;32mdef\u001b[0m \u001b[0msavefig\u001b[0m\u001b[0;34m(\u001b[0m\u001b[0;34m*\u001b[0m\u001b[0margs\u001b[0m\u001b[0;34m,\u001b[0m \u001b[0;34m**\u001b[0m\u001b[0mkwargs\u001b[0m\u001b[0;34m)\u001b[0m\u001b[0;34m:\u001b[0m\u001b[0;34m\u001b[0m\u001b[0;34m\u001b[0m\u001b[0m\n\u001b[1;32m    965\u001b[0m     \u001b[0mfig\u001b[0m \u001b[0;34m=\u001b[0m \u001b[0mgcf\u001b[0m\u001b[0;34m(\u001b[0m\u001b[0;34m)\u001b[0m\u001b[0;34m\u001b[0m\u001b[0;34m\u001b[0m\u001b[0m\n\u001b[0;32m--> 966\u001b[0;31m     \u001b[0mres\u001b[0m \u001b[0;34m=\u001b[0m \u001b[0mfig\u001b[0m\u001b[0;34m.\u001b[0m\u001b[0msavefig\u001b[0m\u001b[0;34m(\u001b[0m\u001b[0;34m*\u001b[0m\u001b[0margs\u001b[0m\u001b[0;34m,\u001b[0m \u001b[0;34m**\u001b[0m\u001b[0mkwargs\u001b[0m\u001b[0;34m)\u001b[0m\u001b[0;34m\u001b[0m\u001b[0;34m\u001b[0m\u001b[0m\n\u001b[0m\u001b[1;32m    967\u001b[0m     \u001b[0mfig\u001b[0m\u001b[0;34m.\u001b[0m\u001b[0mcanvas\u001b[0m\u001b[0;34m.\u001b[0m\u001b[0mdraw_idle\u001b[0m\u001b[0;34m(\u001b[0m\u001b[0;34m)\u001b[0m   \u001b[0;31m# need this if 'transparent=True' to reset colors\u001b[0m\u001b[0;34m\u001b[0m\u001b[0;34m\u001b[0m\u001b[0m\n\u001b[1;32m    968\u001b[0m     \u001b[0;32mreturn\u001b[0m \u001b[0mres\u001b[0m\u001b[0;34m\u001b[0m\u001b[0;34m\u001b[0m\u001b[0m\n",
      "\u001b[0;32m~/anaconda3/lib/python3.9/site-packages/matplotlib/figure.py\u001b[0m in \u001b[0;36msavefig\u001b[0;34m(self, fname, transparent, **kwargs)\u001b[0m\n\u001b[1;32m   3013\u001b[0m                 \u001b[0mpatch\u001b[0m\u001b[0;34m.\u001b[0m\u001b[0mset_edgecolor\u001b[0m\u001b[0;34m(\u001b[0m\u001b[0;34m'none'\u001b[0m\u001b[0;34m)\u001b[0m\u001b[0;34m\u001b[0m\u001b[0;34m\u001b[0m\u001b[0m\n\u001b[1;32m   3014\u001b[0m \u001b[0;34m\u001b[0m\u001b[0m\n\u001b[0;32m-> 3015\u001b[0;31m         \u001b[0mself\u001b[0m\u001b[0;34m.\u001b[0m\u001b[0mcanvas\u001b[0m\u001b[0;34m.\u001b[0m\u001b[0mprint_figure\u001b[0m\u001b[0;34m(\u001b[0m\u001b[0mfname\u001b[0m\u001b[0;34m,\u001b[0m \u001b[0;34m**\u001b[0m\u001b[0mkwargs\u001b[0m\u001b[0;34m)\u001b[0m\u001b[0;34m\u001b[0m\u001b[0;34m\u001b[0m\u001b[0m\n\u001b[0m\u001b[1;32m   3016\u001b[0m \u001b[0;34m\u001b[0m\u001b[0m\n\u001b[1;32m   3017\u001b[0m         \u001b[0;32mif\u001b[0m \u001b[0mtransparent\u001b[0m\u001b[0;34m:\u001b[0m\u001b[0;34m\u001b[0m\u001b[0;34m\u001b[0m\u001b[0m\n",
      "\u001b[0;32m~/anaconda3/lib/python3.9/site-packages/matplotlib/backend_bases.py\u001b[0m in \u001b[0;36mprint_figure\u001b[0;34m(self, filename, dpi, facecolor, edgecolor, orientation, format, bbox_inches, pad_inches, bbox_extra_artists, backend, **kwargs)\u001b[0m\n\u001b[1;32m   2253\u001b[0m                 \u001b[0;31m# force the figure dpi to 72), so we need to set it again here.\u001b[0m\u001b[0;34m\u001b[0m\u001b[0;34m\u001b[0m\u001b[0m\n\u001b[1;32m   2254\u001b[0m                 \u001b[0;32mwith\u001b[0m \u001b[0mcbook\u001b[0m\u001b[0;34m.\u001b[0m\u001b[0m_setattr_cm\u001b[0m\u001b[0;34m(\u001b[0m\u001b[0mself\u001b[0m\u001b[0;34m.\u001b[0m\u001b[0mfigure\u001b[0m\u001b[0;34m,\u001b[0m \u001b[0mdpi\u001b[0m\u001b[0;34m=\u001b[0m\u001b[0mdpi\u001b[0m\u001b[0;34m)\u001b[0m\u001b[0;34m:\u001b[0m\u001b[0;34m\u001b[0m\u001b[0;34m\u001b[0m\u001b[0m\n\u001b[0;32m-> 2255\u001b[0;31m                     result = print_method(\n\u001b[0m\u001b[1;32m   2256\u001b[0m                         \u001b[0mfilename\u001b[0m\u001b[0;34m,\u001b[0m\u001b[0;34m\u001b[0m\u001b[0;34m\u001b[0m\u001b[0m\n\u001b[1;32m   2257\u001b[0m                         \u001b[0mfacecolor\u001b[0m\u001b[0;34m=\u001b[0m\u001b[0mfacecolor\u001b[0m\u001b[0;34m,\u001b[0m\u001b[0;34m\u001b[0m\u001b[0;34m\u001b[0m\u001b[0m\n",
      "\u001b[0;32m~/anaconda3/lib/python3.9/site-packages/matplotlib/backend_bases.py\u001b[0m in \u001b[0;36mwrapper\u001b[0;34m(*args, **kwargs)\u001b[0m\n\u001b[1;32m   1667\u001b[0m             \u001b[0mkwargs\u001b[0m\u001b[0;34m.\u001b[0m\u001b[0mpop\u001b[0m\u001b[0;34m(\u001b[0m\u001b[0marg\u001b[0m\u001b[0;34m)\u001b[0m\u001b[0;34m\u001b[0m\u001b[0;34m\u001b[0m\u001b[0m\n\u001b[1;32m   1668\u001b[0m \u001b[0;34m\u001b[0m\u001b[0m\n\u001b[0;32m-> 1669\u001b[0;31m         \u001b[0;32mreturn\u001b[0m \u001b[0mfunc\u001b[0m\u001b[0;34m(\u001b[0m\u001b[0;34m*\u001b[0m\u001b[0margs\u001b[0m\u001b[0;34m,\u001b[0m \u001b[0;34m**\u001b[0m\u001b[0mkwargs\u001b[0m\u001b[0;34m)\u001b[0m\u001b[0;34m\u001b[0m\u001b[0;34m\u001b[0m\u001b[0m\n\u001b[0m\u001b[1;32m   1670\u001b[0m \u001b[0;34m\u001b[0m\u001b[0m\n\u001b[1;32m   1671\u001b[0m     \u001b[0;32mreturn\u001b[0m \u001b[0mwrapper\u001b[0m\u001b[0;34m\u001b[0m\u001b[0;34m\u001b[0m\u001b[0m\n",
      "\u001b[0;32m~/anaconda3/lib/python3.9/site-packages/matplotlib/backends/backend_agg.py\u001b[0m in \u001b[0;36mprint_png\u001b[0;34m(self, filename_or_obj, metadata, pil_kwargs, *args)\u001b[0m\n\u001b[1;32m    507\u001b[0m         \"\"\"\n\u001b[1;32m    508\u001b[0m         \u001b[0mFigureCanvasAgg\u001b[0m\u001b[0;34m.\u001b[0m\u001b[0mdraw\u001b[0m\u001b[0;34m(\u001b[0m\u001b[0mself\u001b[0m\u001b[0;34m)\u001b[0m\u001b[0;34m\u001b[0m\u001b[0;34m\u001b[0m\u001b[0m\n\u001b[0;32m--> 509\u001b[0;31m         mpl.image.imsave(\n\u001b[0m\u001b[1;32m    510\u001b[0m             \u001b[0mfilename_or_obj\u001b[0m\u001b[0;34m,\u001b[0m \u001b[0mself\u001b[0m\u001b[0;34m.\u001b[0m\u001b[0mbuffer_rgba\u001b[0m\u001b[0;34m(\u001b[0m\u001b[0;34m)\u001b[0m\u001b[0;34m,\u001b[0m \u001b[0mformat\u001b[0m\u001b[0;34m=\u001b[0m\u001b[0;34m\"png\"\u001b[0m\u001b[0;34m,\u001b[0m \u001b[0morigin\u001b[0m\u001b[0;34m=\u001b[0m\u001b[0;34m\"upper\"\u001b[0m\u001b[0;34m,\u001b[0m\u001b[0;34m\u001b[0m\u001b[0;34m\u001b[0m\u001b[0m\n\u001b[1;32m    511\u001b[0m             dpi=self.figure.dpi, metadata=metadata, pil_kwargs=pil_kwargs)\n",
      "\u001b[0;32m~/anaconda3/lib/python3.9/site-packages/matplotlib/image.py\u001b[0m in \u001b[0;36mimsave\u001b[0;34m(fname, arr, vmin, vmax, cmap, format, origin, dpi, metadata, pil_kwargs)\u001b[0m\n\u001b[1;32m   1614\u001b[0m         \u001b[0mpil_kwargs\u001b[0m\u001b[0;34m.\u001b[0m\u001b[0msetdefault\u001b[0m\u001b[0;34m(\u001b[0m\u001b[0;34m\"format\"\u001b[0m\u001b[0;34m,\u001b[0m \u001b[0mformat\u001b[0m\u001b[0;34m)\u001b[0m\u001b[0;34m\u001b[0m\u001b[0;34m\u001b[0m\u001b[0m\n\u001b[1;32m   1615\u001b[0m         \u001b[0mpil_kwargs\u001b[0m\u001b[0;34m.\u001b[0m\u001b[0msetdefault\u001b[0m\u001b[0;34m(\u001b[0m\u001b[0;34m\"dpi\"\u001b[0m\u001b[0;34m,\u001b[0m \u001b[0;34m(\u001b[0m\u001b[0mdpi\u001b[0m\u001b[0;34m,\u001b[0m \u001b[0mdpi\u001b[0m\u001b[0;34m)\u001b[0m\u001b[0;34m)\u001b[0m\u001b[0;34m\u001b[0m\u001b[0;34m\u001b[0m\u001b[0m\n\u001b[0;32m-> 1616\u001b[0;31m         \u001b[0mimage\u001b[0m\u001b[0;34m.\u001b[0m\u001b[0msave\u001b[0m\u001b[0;34m(\u001b[0m\u001b[0mfname\u001b[0m\u001b[0;34m,\u001b[0m \u001b[0;34m**\u001b[0m\u001b[0mpil_kwargs\u001b[0m\u001b[0;34m)\u001b[0m\u001b[0;34m\u001b[0m\u001b[0;34m\u001b[0m\u001b[0m\n\u001b[0m\u001b[1;32m   1617\u001b[0m \u001b[0;34m\u001b[0m\u001b[0m\n\u001b[1;32m   1618\u001b[0m \u001b[0;34m\u001b[0m\u001b[0m\n",
      "\u001b[0;32m~/anaconda3/lib/python3.9/site-packages/PIL/Image.py\u001b[0m in \u001b[0;36msave\u001b[0;34m(self, fp, format, **params)\u001b[0m\n\u001b[1;32m   2235\u001b[0m                 \u001b[0mfp\u001b[0m \u001b[0;34m=\u001b[0m \u001b[0mbuiltins\u001b[0m\u001b[0;34m.\u001b[0m\u001b[0mopen\u001b[0m\u001b[0;34m(\u001b[0m\u001b[0mfilename\u001b[0m\u001b[0;34m,\u001b[0m \u001b[0;34m\"r+b\"\u001b[0m\u001b[0;34m)\u001b[0m\u001b[0;34m\u001b[0m\u001b[0;34m\u001b[0m\u001b[0m\n\u001b[1;32m   2236\u001b[0m             \u001b[0;32melse\u001b[0m\u001b[0;34m:\u001b[0m\u001b[0;34m\u001b[0m\u001b[0;34m\u001b[0m\u001b[0m\n\u001b[0;32m-> 2237\u001b[0;31m                 \u001b[0mfp\u001b[0m \u001b[0;34m=\u001b[0m \u001b[0mbuiltins\u001b[0m\u001b[0;34m.\u001b[0m\u001b[0mopen\u001b[0m\u001b[0;34m(\u001b[0m\u001b[0mfilename\u001b[0m\u001b[0;34m,\u001b[0m \u001b[0;34m\"w+b\"\u001b[0m\u001b[0;34m)\u001b[0m\u001b[0;34m\u001b[0m\u001b[0;34m\u001b[0m\u001b[0m\n\u001b[0m\u001b[1;32m   2238\u001b[0m \u001b[0;34m\u001b[0m\u001b[0m\n\u001b[1;32m   2239\u001b[0m         \u001b[0;32mtry\u001b[0m\u001b[0;34m:\u001b[0m\u001b[0;34m\u001b[0m\u001b[0;34m\u001b[0m\u001b[0m\n",
      "\u001b[0;31mFileNotFoundError\u001b[0m: [Errno 2] No such file or directory: 'figures/LDX120C.png'"
     ]
    },
    {
     "data": {
      "image/png": "[encoded data removed]",
      "text/plain": [
       "<Figure size 432x288 with 1 Axes>"
      ]
     },
     "metadata": {
      "needs_background": "light"
     },
     "output_type": "display_data"
    }
   ],
   "source": [
    "#price matching graphs\n",
    "models = ['LDX120C','DCK240C2', 'DR260C']\n",
    "\n",
    "def price_match(model,prices):\n",
    "    platforms  = ['AMZN','WMT','HD','LOW']\n",
    "    for plat in platforms:\n",
    "        prod1_plat = prices[ (prices['platform']==plat) & (prices['model'] == model) ]\n",
    "        axes = plt.plot(prod1_plat['date'],prod1_plat['price'],label=plat)\n",
    "        \n",
    "    xticks =  np.linspace(prices['date'].min(),prices['date'].max(),6)\n",
    "    xticks = pd.Series(xticks)\n",
    "    xticklabels =  (xticks/1.0e3).apply(datetime.datetime.fromtimestamp).apply(lambda x: str(x)[5:10] )\n",
    "    plt.xticks(xticks,xticklabels)  \n",
    "    plt.legend()\n",
    "    plt.xlabel('Date')\n",
    "    plt.ylabel('Price')\n",
    "    plt.title( 'Prices over time %s'%model )\n",
    "    plt.savefig('figures/%s.png'%model)\n",
    "    plt.show()\n",
    "    \n",
    "\n",
    "for model in models:\n",
    "    price_match(model,clean_price)"
   ]
  },
  {
   "cell_type": "code",
   "execution_count": null,
   "metadata": {
    "scrolled": false
   },
   "outputs": [],
   "source": [
    "#inventory graphs\n",
    "invents = [('PCC601LB','AMZN'),('BDCDMT120C','AMZN'),('LDX120C','AMZN'),('BDCDMT120C','WMT'), ('PCC601LB','WMT'), \n",
    "           ('DCK240C2','AMZN'), ('DCK240C2','LOW'),('DCK240C2','HD'), ('DCF885C2','AMZN') ]\n",
    "\n",
    "def sales_plot(model,plat,prices):\n",
    "\n",
    "    prod1_plat = prices[ (prices['platform']==plat) & (prices['model'] == model) ]\n",
    "    logify = lambda x : np.log(x+1)\n",
    "    axes = plt.plot(prod1_plat['date'],(prod1_plat['price']),label='Price')\n",
    "    axes = plt.plot(prod1_plat['date'],(prod1_plat['inventory']),label='Inventory')\n",
    "    #axes = plt.plot(prod1_plat['date'],logify(prod1_plat['new_rank']),label='Rank')\n",
    "        \n",
    "    xticks =  np.linspace(prices['date'].min(),prices['date'].max(),6)\n",
    "    xticks = pd.Series(xticks)\n",
    "    xticklabels =  (xticks/1.0e3).apply(datetime.datetime.fromtimestamp).apply(lambda x: str(x)[5:10] )\n",
    "    plt.xticks(xticks,xticklabels)  \n",
    "    plt.legend()\n",
    "    plt.ylabel('Price, inventory')\n",
    "    plt.title( 'Inventory behavior %s %s'%(model,plat) )\n",
    "    plt.savefig('figures/%s_%s.png'%(model, plat))\n",
    "    plt.show()\n",
    "    \n",
    "for (model,plat) in invents:\n",
    "    sales_plot(model,plat,clean_price)"
   ]
  },
  {
   "cell_type": "code",
   "execution_count": null,
   "metadata": {
    "scrolled": false
   },
   "outputs": [],
   "source": [
    "#inventory graphs\n",
    "invents = [('PCC601LB','AMZN'),('BDCDMT120C','AMZN'),('LDX120C','AMZN'),('BDCDMT120C','WMT'), ('PCC601LB','WMT'), \n",
    "           ('DCK240C2','AMZN'), ('DCK240C2','LOW'),('DCK240C2','HD'), ('DCF885C2','AMZN') ]\n",
    "\n",
    "def sales_plot(model,plat,prices):\n",
    "\n",
    "    prod1_plat = prices[ (prices['platform']==plat) & (prices['model'] == model) ]\n",
    "    logify = lambda x : np.log(x+1)\n",
    "    #axes = plt.plot(prod1_plat['date'],(prod1_plat['price']),label='Price')\n",
    "    axes = plt.plot(prod1_plat['date'],(prod1_plat['inventory']),label='Inventory')\n",
    "    axes = plt.plot(prod1_plat['date'], prod1_plat['new_rank'] ,label='Rank')\n",
    "        \n",
    "    xticks =  np.linspace(prices['date'].min(),prices['date'].max(),6)\n",
    "    xticks = pd.Series(xticks)\n",
    "    xticklabels =  (xticks/1.0e3).apply(datetime.datetime.fromtimestamp).apply(lambda x: str(x)[5:10] )\n",
    "    plt.xticks(xticks,xticklabels)  \n",
    "    plt.legend()\n",
    "    plt.ylabel('Rank, Inventory')\n",
    "    plt.title( 'Inventory behavior %s %s'%(model,plat) )\n",
    "    plt.savefig('figures/%s_%s_2.png'%(model, plat))\n",
    "    plt.show()\n",
    "    \n",
    "for (model,plat) in invents:\n",
    "    sales_plot(model,plat,clean_price)"
   ]
  },
  {
   "cell_type": "code",
   "execution_count": null,
   "metadata": {},
   "outputs": [],
   "source": []
  },
  {
   "cell_type": "code",
   "execution_count": null,
   "metadata": {},
   "outputs": [],
   "source": []
  },
  {
   "cell_type": "code",
   "execution_count": null,
   "metadata": {},
   "outputs": [],
   "source": []
  },
  {
   "cell_type": "code",
   "execution_count": null,
   "metadata": {},
   "outputs": [],
   "source": []
  }
 ],
 "metadata": {
  "kernelspec": {
   "display_name": "Python 3 (ipykernel)",
   "language": "python",
   "name": "python3"
  },
  "language_info": {
   "codemirror_mode": {
    "name": "ipython",
    "version": 3
   },
   "file_extension": ".py",
   "mimetype": "text/x-python",
   "name": "python",
   "nbconvert_exporter": "python",
   "pygments_lexer": "ipython3",
   "version": "3.9.7"
  }
 },
 "nbformat": 4,
 "nbformat_minor": 2
}
