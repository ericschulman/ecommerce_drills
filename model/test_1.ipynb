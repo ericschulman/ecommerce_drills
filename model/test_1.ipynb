{
 "cells": [
  {
   "cell_type": "code",
   "execution_count": 5,
   "metadata": {
    "scrolled": false
   },
   "outputs": [
    {
     "name": "stdout",
     "output_type": "stream",
     "text": [
      "\u001b[32m\u001b[1m Resolving\u001b[22m\u001b[39m package versions...\n",
      "\u001b[32m\u001b[1m  Updating\u001b[22m\u001b[39m `~/.julia/environments/v1.0/Project.toml`\n",
      "\u001b[90m [no changes]\u001b[39m\n",
      "\u001b[32m\u001b[1m  Updating\u001b[22m\u001b[39m `~/.julia/environments/v1.0/Manifest.toml`\n",
      "\u001b[90m [no changes]\u001b[39m\n",
      "\u001b[32m\u001b[1m Resolving\u001b[22m\u001b[39m package versions...\n",
      "\u001b[32m\u001b[1m  Updating\u001b[22m\u001b[39m `~/.julia/environments/v1.0/Project.toml`\n",
      "\u001b[90m [no changes]\u001b[39m\n",
      "\u001b[32m\u001b[1m  Updating\u001b[22m\u001b[39m `~/.julia/environments/v1.0/Manifest.toml`\n",
      "\u001b[90m [no changes]\u001b[39m\n"
     ]
    },
    {
     "name": "stderr",
     "output_type": "stream",
     "text": [
      "┌ Info: Precompiling Optim [429524aa-4258-5aef-a3af-852621145aeb]\n",
      "└ @ Base loading.jl:1192\n",
      "┌ Warning: Module Compat with build ID 4177018510774 is missing from the cache.\n",
      "│ This may mean Compat [34da2185-b29b-5c13-b0c7-acf172513d20] does not support precompilation but is imported by a module that does.\n",
      "└ @ Base loading.jl:947\n",
      "┌ Warning: Module Compat with build ID 4177018510774 is missing from the cache.\n",
      "│ This may mean Compat [34da2185-b29b-5c13-b0c7-acf172513d20] does not support precompilation but is imported by a module that does.\n",
      "└ @ Base loading.jl:947\n",
      "┌ Warning: Module Compat with build ID 4177018510774 is missing from the cache.\n",
      "│ This may mean Compat [34da2185-b29b-5c13-b0c7-acf172513d20] does not support precompilation but is imported by a module that does.\n",
      "└ @ Base loading.jl:947\n",
      "┌ Warning: Module Compat with build ID 4177018510774 is missing from the cache.\n",
      "│ This may mean Compat [34da2185-b29b-5c13-b0c7-acf172513d20] does not support precompilation but is imported by a module that does.\n",
      "└ @ Base loading.jl:947\n",
      "┌ Warning: Module Compat with build ID 4177018510774 is missing from the cache.\n",
      "│ This may mean Compat [34da2185-b29b-5c13-b0c7-acf172513d20] does not support precompilation but is imported by a module that does.\n",
      "└ @ Base loading.jl:947\n",
      "┌ Warning: Module Compat with build ID 4177018510774 is missing from the cache.\n",
      "│ This may mean Compat [34da2185-b29b-5c13-b0c7-acf172513d20] does not support precompilation but is imported by a module that does.\n",
      "└ @ Base loading.jl:947\n",
      "┌ Warning: Module Compat with build ID 4177018510774 is missing from the cache.\n",
      "│ This may mean Compat [34da2185-b29b-5c13-b0c7-acf172513d20] does not support precompilation but is imported by a module that does.\n",
      "└ @ Base loading.jl:947\n",
      "┌ Warning: Module Compat with build ID 4177018510774 is missing from the cache.\n",
      "│ This may mean Compat [34da2185-b29b-5c13-b0c7-acf172513d20] does not support precompilation but is imported by a module that does.\n",
      "└ @ Base loading.jl:947\n",
      "┌ Info: Precompiling NLSolversBase [d41bc354-129a-5804-8e4c-c37616107c6c]\n",
      "└ @ Base loading.jl:1192\n",
      "┌ Warning: Module Compat with build ID 4177018510774 is missing from the cache.\n",
      "│ This may mean Compat [34da2185-b29b-5c13-b0c7-acf172513d20] does not support precompilation but is imported by a module that does.\n",
      "└ @ Base loading.jl:947\n",
      "┌ Warning: Module Compat with build ID 4177018510774 is missing from the cache.\n",
      "│ This may mean Compat [34da2185-b29b-5c13-b0c7-acf172513d20] does not support precompilation but is imported by a module that does.\n",
      "└ @ Base loading.jl:947\n",
      "┌ Warning: Module Compat with build ID 4177018510774 is missing from the cache.\n",
      "│ This may mean Compat [34da2185-b29b-5c13-b0c7-acf172513d20] does not support precompilation but is imported by a module that does.\n",
      "└ @ Base loading.jl:947\n",
      "┌ Warning: Module Compat with build ID 4177018510774 is missing from the cache.\n",
      "│ This may mean Compat [34da2185-b29b-5c13-b0c7-acf172513d20] does not support precompilation but is imported by a module that does.\n",
      "└ @ Base loading.jl:947\n",
      "┌ Info: Precompiling ForwardDiff [f6369f11-7733-5829-9624-2563aa707210]\n",
      "└ @ Base loading.jl:1192\n",
      "┌ Warning: Module Compat with build ID 4177018510774 is missing from the cache.\n",
      "│ This may mean Compat [34da2185-b29b-5c13-b0c7-acf172513d20] does not support precompilation but is imported by a module that does.\n",
      "└ @ Base loading.jl:947\n",
      "┌ Warning: Module Compat with build ID 4177018510774 is missing from the cache.\n",
      "│ This may mean Compat [34da2185-b29b-5c13-b0c7-acf172513d20] does not support precompilation but is imported by a module that does.\n",
      "└ @ Base loading.jl:947\n",
      "┌ Info: Precompiling DiffResults [163ba53b-c6d8-5494-b064-1a9d43ac40c5]\n",
      "└ @ Base loading.jl:1192\n",
      "┌ Warning: Module Compat with build ID 4177018510774 is missing from the cache.\n",
      "│ This may mean Compat [34da2185-b29b-5c13-b0c7-acf172513d20] does not support precompilation but is imported by a module that does.\n",
      "└ @ Base loading.jl:947\n",
      "┌ Info: Precompiling NaNMath [77ba4419-2d1f-58cd-9bb1-8ffee604a2e3]\n",
      "└ @ Base loading.jl:1192\n",
      "┌ Warning: Module Compat with build ID 4177018510774 is missing from the cache.\n",
      "│ This may mean Compat [34da2185-b29b-5c13-b0c7-acf172513d20] does not support precompilation but is imported by a module that does.\n",
      "└ @ Base loading.jl:947\n",
      "┌ Info: Precompiling SpecialFunctions [276daf66-3868-5448-9aa4-cd146d93841b]\n",
      "└ @ Base loading.jl:1192\n",
      "┌ Info: Precompiling CommonSubexpressions [bbf7d656-a473-5ed7-a52c-81e309532950]\n",
      "└ @ Base loading.jl:1192\n",
      "┌ Info: Precompiling Calculus [49dc2e85-a5d0-5ad3-a950-438e2897f1b9]\n",
      "└ @ Base loading.jl:1192\n",
      "┌ Warning: Module Compat with build ID 4177018510774 is missing from the cache.\n",
      "│ This may mean Compat [34da2185-b29b-5c13-b0c7-acf172513d20] does not support precompilation but is imported by a module that does.\n",
      "└ @ Base loading.jl:947\n",
      "┌ Info: Precompiling PositiveFactorizations [85a6dd25-e78a-55b7-8502-1745935b8125]\n",
      "└ @ Base loading.jl:1192\n",
      "┌ Info: Precompiling LineSearches [d3d80556-e9d4-5f37-9878-2ab0fcc64255]\n",
      "└ @ Base loading.jl:1192\n",
      "┌ Warning: Module NaNMath with build ID 2991887508981 is missing from the cache.\n",
      "│ This may mean NaNMath [77ba4419-2d1f-58cd-9bb1-8ffee604a2e3] does not support precompilation but is imported by a module that does.\n",
      "└ @ Base loading.jl:947\n",
      "┌ Info: Precompiling FillArrays [1a297f60-69ca-5386-bcde-b61e274b549b]\n",
      "└ @ Base loading.jl:1192\n",
      "┌ Info: Precompiling StatsBase [2913bbd2-ae8a-5f71-8c99-4fb6c76f3a91]\n",
      "└ @ Base loading.jl:1192\n",
      "┌ Info: Precompiling PyPlot [d330b81b-6aea-500a-939a-2ce795aea3ee]\n",
      "└ @ Base loading.jl:1192\n",
      "┌ Warning: Module VersionParsing with build ID 4201215268610 is missing from the cache.\n",
      "│ This may mean VersionParsing [81def892-9a0e-5fdd-b105-ffc91e053289] does not support precompilation but is imported by a module that does.\n",
      "└ @ Base loading.jl:947\n",
      "┌ Warning: Module VersionParsing with build ID 4201215268610 is missing from the cache.\n",
      "│ This may mean VersionParsing [81def892-9a0e-5fdd-b105-ffc91e053289] does not support precompilation but is imported by a module that does.\n",
      "└ @ Base loading.jl:947\n",
      "┌ Info: Precompiling PyCall [438e738f-606a-5dbb-bf0a-cddfbfd45ab0]\n",
      "└ @ Base loading.jl:1192\n",
      "┌ Warning: Module VersionParsing with build ID 4201215268610 is missing from the cache.\n",
      "│ This may mean VersionParsing [81def892-9a0e-5fdd-b105-ffc91e053289] does not support precompilation but is imported by a module that does.\n",
      "└ @ Base loading.jl:947\n",
      "┌ Info: Precompiling MacroTools [1914dd2f-81c6-5fcd-8719-6d5c9610ff09]\n",
      "└ @ Base loading.jl:1192\n",
      "┌ Warning: Module Compat with build ID 4177018510774 is missing from the cache.\n",
      "│ This may mean Compat [34da2185-b29b-5c13-b0c7-acf172513d20] does not support precompilation but is imported by a module that does.\n",
      "└ @ Base loading.jl:947\n",
      "┌ Info: Precompiling Tokenize [0796e94c-ce3b-5d07-9a54-7f471281c624]\n",
      "└ @ Base loading.jl:1192\n",
      "┌ Info: Precompiling CSTParser [00ebfdb7-1f24-5e51-bd34-a7502290713f]\n",
      "└ @ Base loading.jl:1192\n",
      "┌ Info: Precompiling Colors [5ae59095-9a9b-59fe-a467-6f913c188581]\n",
      "└ @ Base loading.jl:1192\n",
      "┌ Info: Precompiling LaTeXStrings [b964fa9f-0449-5b57-a5c2-d3ea65f4040f]\n",
      "└ @ Base loading.jl:1192\n",
      "┌ Warning: Module Compat with build ID 4177018510774 is missing from the cache.\n",
      "│ This may mean Compat [34da2185-b29b-5c13-b0c7-acf172513d20] does not support precompilation but is imported by a module that does.\n",
      "└ @ Base loading.jl:947\n"
     ]
    }
   ],
   "source": [
    "using Pkg\n",
    "\n",
    "Pkg.add(\"Optim\")\n",
    "Pkg.add(\"PyPlot\")\n",
    "\n",
    "using Optim\n",
    "using PyPlot"
   ]
  },
  {
   "cell_type": "code",
   "execution_count": 13,
   "metadata": {},
   "outputs": [
    {
     "data": {
      "text/plain": [
       " * Status: success\n",
       "\n",
       " * Candidate solution\n",
       "    Minimizer: [5.00e+00]\n",
       "    Minimum:   0.000000e+00\n",
       "\n",
       " * Found with\n",
       "    Algorithm:     Newton's Method\n",
       "    Initial Point: [1.00e+00]\n",
       "\n",
       " * Convergence measures\n",
       "    |x - x'|               = 4.00e+00 ≰ 0.0e+00\n",
       "    |x - x'|/|x'|          = 8.00e-01 ≰ 0.0e+00\n",
       "    |f(x) - f(x')|         = 1.60e+01 ≰ 0.0e+00\n",
       "    |f(x) - f(x')|/|f(x')| = Inf ≰ 0.0e+00\n",
       "    |g(x)|                 = 0.00e+00 ≤ 1.0e-08\n",
       "\n",
       " * Work counters\n",
       "    Seconds run:   0  (vs limit Inf)\n",
       "    Iterations:    1\n",
       "    f(x) calls:    3\n",
       "    ∇f(x) calls:   3\n",
       "    ∇²f(x) calls:  1\n"
      ]
     },
     "execution_count": 13,
     "metadata": {},
     "output_type": "execute_result"
    }
   ],
   "source": [
    "f(x) = (x[1]-5)^2\n",
    "\n",
    "optimize(f,[1.],Newton())"
   ]
  },
  {
   "cell_type": "code",
   "execution_count": 102,
   "metadata": {},
   "outputs": [
    {
     "data": {
      "text/plain": [
       "moving_average_no_cut (generic function with 1 method)"
      ]
     },
     "execution_count": 102,
     "metadata": {},
     "output_type": "execute_result"
    }
   ],
   "source": [
    "X = [1 2 3 4 5]\n",
    "L = 3\n",
    "\n",
    "function moving_average_no_cut(x,l)\n",
    "    N= length(x)\n",
    "    h = zeros(N,N)\n",
    "    for i=1:N\n",
    "        last_ind = i + l -1\n",
    "        if last_ind <= N \n",
    "            h[i,i:last_ind] = 1/l*ones(last_ind - i +1)\n",
    "        end\n",
    "        \n",
    "        if last_ind > N\n",
    "            cutoff = l - mod(last_ind,l) - 1\n",
    "            h[i,i:i+cutoff-1] = 1/cutoff*ones(cutoff)\n",
    "        end\n",
    "    end\n",
    "    return h\n",
    "end\n"
   ]
  },
  {
   "cell_type": "code",
   "execution_count": 108,
   "metadata": {},
   "outputs": [
    {
     "name": "stdout",
     "output_type": "stream",
     "text": [
      "1\n",
      "2\n",
      "3\n"
     ]
    },
    {
     "data": {
      "text/plain": [
       "5×3 Array{Float64,2}:\n",
       " 0.333333  0.0       0.0     \n",
       " 0.333333  0.333333  0.0     \n",
       " 0.333333  0.333333  0.333333\n",
       " 0.0       0.333333  0.333333\n",
       " 0.0       0.0       0.333333"
      ]
     },
     "execution_count": 108,
     "metadata": {},
     "output_type": "execute_result"
    }
   ],
   "source": [
    "X = [1 2 3 4 5]\n",
    "L = 3\n",
    "\n",
    "function moving_average(x,l)\n",
    "    N= length(x)\n",
    "    h = zeros(N, N - l + 1)\n",
    "    for i =1:(N-l+1)\n",
    "        println(i)\n",
    "        h[i:i+l-1,i] = 1/l*ones(l)\n",
    "    end\n",
    "    return h\n",
    "end\n",
    "\n",
    "moving_average(X,L)"
   ]
  },
  {
   "cell_type": "code",
   "execution_count": null,
   "metadata": {},
   "outputs": [],
   "source": [
    "g(p) = p\n",
    "\n",
    "u(p) = p*"
   ]
  }
 ],
 "metadata": {
  "kernelspec": {
   "display_name": "Julia 1.0.4",
   "language": "julia",
   "name": "julia-1.0"
  },
  "language_info": {
   "file_extension": ".jl",
   "mimetype": "application/julia",
   "name": "julia",
   "version": "1.0.4"
  }
 },
 "nbformat": 4,
 "nbformat_minor": 2
}
