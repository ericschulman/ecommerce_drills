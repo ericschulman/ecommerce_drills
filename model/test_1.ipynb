{
 "cells": [
  {
   "cell_type": "code",
   "execution_count": 1,
   "metadata": {
    "scrolled": false
   },
   "outputs": [
    {
     "name": "stderr",
     "output_type": "stream",
     "text": [
      "┌ Info: Recompiling stale cache file /home/erichschulman/.julia/compiled/v1.0/Optim/R5uoh.ji for Optim [429524aa-4258-5aef-a3af-852621145aeb]\n",
      "└ @ Base loading.jl:1190\n",
      "┌ Info: Recompiling stale cache file /home/erichschulman/.julia/compiled/v1.0/PyPlot/oatAj.ji for PyPlot [d330b81b-6aea-500a-939a-2ce795aea3ee]\n",
      "└ @ Base loading.jl:1190\n"
     ]
    }
   ],
   "source": [
    "#Pkg.add(\"Optim\")\n",
    "#Pkg.add(\"PyPlot\")\n",
    "\n",
    "using Pkg\n",
    "using Optim\n",
    "using PyPlot\n",
    "using LinearAlgebra"
   ]
  },
  {
   "cell_type": "code",
   "execution_count": 2,
   "metadata": {},
   "outputs": [
    {
     "data": {
      "text/plain": [
       "(:method, :initial_x, :minimizer, :minimum, :iterations, :iteration_converged, :x_converged, :x_tol, :x_abschange, :f_converged, :f_tol, :f_abschange, :g_converged, :g_tol, :g_residual, :f_increased, :trace, :f_calls, :g_calls, :h_calls)"
      ]
     },
     "execution_count": 2,
     "metadata": {},
     "output_type": "execute_result"
    }
   ],
   "source": [
    "f(x) = (x[1]-5)^2\n",
    "\n",
    "res = optimize(f,[1.],Newton())\n",
    "fieldnames(typeof(res))"
   ]
  },
  {
   "cell_type": "code",
   "execution_count": 3,
   "metadata": {},
   "outputs": [
    {
     "data": {
      "text/plain": [
       "moving_average (generic function with 1 method)"
      ]
     },
     "execution_count": 3,
     "metadata": {},
     "output_type": "execute_result"
    }
   ],
   "source": [
    "X = [1, 2, 3, 4, 5]\n",
    "L = 3\n",
    "\n",
    "function moving_average(x,l)\n",
    "    N= length(x)\n",
    "    h = zeros(N, N - l + 1)\n",
    "    for i =1:(N-l+1)\n",
    "        println(i)\n",
    "        h[i:i+l-1,i] = 1/l*ones(l)\n",
    "    end\n",
    "    return h\n",
    "end\n"
   ]
  },
  {
   "cell_type": "code",
   "execution_count": 30,
   "metadata": {},
   "outputs": [
    {
     "name": "stdout",
     "output_type": "stream",
     "text": [
      "[0.695226, 0.625048, 0.499877]\n",
      "[1.0, 0.695226, 0.43455]\n",
      "[0.695226, 0.625048, 0.499877]\n"
     ]
    }
   ],
   "source": [
    "function no_win(p,g)\n",
    "    l = length(p)\n",
    "    gs = reverse(g(p))\n",
    "    result = ones(l)\n",
    "    for i = 2:l\n",
    "        for j=i:l\n",
    "            result[i-1] = result[i-1]*gs[j]\n",
    "        end\n",
    "    end\n",
    "    return reverse(result)\n",
    "end\n",
    "\n",
    "\n",
    "function create_obj(u,g)\n",
    "    obj(p) = -1*u(p,g)\n",
    "    return obj\n",
    "end\n",
    "\n",
    "\n",
    "f1(p) = clamp!(p,0, 1)\n",
    "u1(p,g) = sum(p.*(ones(size(p)) - g(p)).*no_win(p,g))\n",
    "\n",
    "P = [.5,.5,.5]\n",
    "res = optimize(create_obj(u1,f1),[.5,.5,.5])\n",
    "\n",
    "println(res.minimizer)\n",
    "println(no_win(res.minimizer,f1))\n",
    "println(f1(res.minimizer))"
   ]
  },
  {
   "cell_type": "code",
   "execution_count": 43,
   "metadata": {},
   "outputs": [
    {
     "name": "stdout",
     "output_type": "stream",
     "text": [
      "first try [-0.49, -0.734694, -0.340278]\n"
     ]
    }
   ],
   "source": [
    "function update_beliefs(p,g)\n",
    "    l = length(p)\n",
    "    gs = g(p)\n",
    "    result = gs\n",
    "    for i = 2:l\n",
    "        result[i] = Int( p[i] <= minimum(p[1:i-1]) )*result[i]/gs[i-1]\n",
    "    end\n",
    "    return result\n",
    "end\n",
    "\n",
    "P = [.7, .6, .5]\n",
    "u2(p,g) = p .* update_beliefs(p,g)\n",
    "obj2(p) = -1*u2(p,f1)\n",
    "println(\"first try \", obj2(P))\n"
   ]
  },
  {
   "cell_type": "code",
   "execution_count": 44,
   "metadata": {},
   "outputs": [
    {
     "ename": "MethodError",
     "evalue": "MethodError: Cannot `convert` an object of type Array{Float64,1} to an object of type Float64\nClosest candidates are:\n  convert(::Type{T<:Number}, !Matched::T<:Number) where T<:Number at number.jl:6\n  convert(::Type{T<:Number}, !Matched::Number) where T<:Number at number.jl:7\n  convert(::Type{T<:Number}, !Matched::Base.TwicePrecision) where T<:Number at twiceprecision.jl:250\n  ...",
     "output_type": "error",
     "traceback": [
      "MethodError: Cannot `convert` an object of type Array{Float64,1} to an object of type Float64\nClosest candidates are:\n  convert(::Type{T<:Number}, !Matched::T<:Number) where T<:Number at number.jl:6\n  convert(::Type{T<:Number}, !Matched::Number) where T<:Number at number.jl:7\n  convert(::Type{T<:Number}, !Matched::Base.TwicePrecision) where T<:Number at twiceprecision.jl:250\n  ...",
      "",
      "Stacktrace:",
      " [1] setproperty!(::NonDifferentiable{Float64,Array{Float64,1}}, ::Symbol, ::Array{Float64,1}) at ./sysimg.jl:19",
      " [2] value!!(::NonDifferentiable{Float64,Array{Float64,1}}, ::Array{Float64,1}) at /home/erichschulman/.julia/packages/NLSolversBase/NsXIC/src/interface.jl:9",
      " [3] initial_state(::NelderMead{Optim.AffineSimplexer,Optim.AdaptiveParameters}, ::Optim.Options{Float64,Nothing}, ::NonDifferentiable{Float64,Array{Float64,1}}, ::Array{Float64,1}) at /home/erichschulman/.julia/packages/Optim/Agd3B/src/multivariate/solvers/zeroth_order/nelder_mead.jl:158",
      " [4] optimize(::NonDifferentiable{Float64,Array{Float64,1}}, ::Array{Float64,1}, ::NelderMead{Optim.AffineSimplexer,Optim.AdaptiveParameters}, ::Optim.Options{Float64,Nothing}) at /home/erichschulman/.julia/packages/Optim/Agd3B/src/multivariate/optimize/optimize.jl:33",
      " [5] #optimize#81(::Bool, ::Symbol, ::Base.Iterators.Pairs{Union{},Union{},Tuple{},NamedTuple{(),Tuple{}}}, ::Function, ::Function, ::Array{Float64,1}) at /home/erichschulman/.julia/packages/Optim/Agd3B/src/multivariate/optimize/interface.jl:64",
      " [6] optimize(::Function, ::Array{Float64,1}) at /home/erichschulman/.julia/packages/Optim/Agd3B/src/multivariate/optimize/interface.jl:58",
      " [7] top-level scope at In[44]:1"
     ]
    }
   ],
   "source": [
    "res2 = optimize(obj2,[.5,.4,.3])\n",
    "println(res2.minimizer)\n",
    "print(obj2(res2.minimizer))\n",
    "print(f1(res2.minimizer))"
   ]
  },
  {
   "cell_type": "code",
   "execution_count": null,
   "metadata": {},
   "outputs": [],
   "source": []
  }
 ],
 "metadata": {
  "kernelspec": {
   "display_name": "Julia 1.0.4",
   "language": "julia",
   "name": "julia-1.0"
  },
  "language_info": {
   "file_extension": ".jl",
   "mimetype": "application/julia",
   "name": "julia",
   "version": "1.0.4"
  }
 },
 "nbformat": 4,
 "nbformat_minor": 2
}
