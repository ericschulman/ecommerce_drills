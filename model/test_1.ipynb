{
 "cells": [
  {
   "cell_type": "code",
   "execution_count": 22,
   "metadata": {
    "scrolled": false
   },
   "outputs": [
    {
     "name": "stdout",
     "output_type": "stream",
     "text": [
      "\u001b[32m\u001b[1m Resolving\u001b[22m\u001b[39m package versions...\n",
      "\u001b[32m\u001b[1m Installed\u001b[22m\u001b[39m FFTViews ───────── v0.3.0\n",
      "\u001b[32m\u001b[1m Installed\u001b[22m\u001b[39m CustomUnitRanges ─ v0.2.0\n",
      "\u001b[32m\u001b[1m  Updating\u001b[22m\u001b[39m `~/.julia/environments/v1.0/Project.toml`\n",
      " \u001b[90m [4f61f5a4]\u001b[39m\u001b[92m + FFTViews v0.3.0\u001b[39m\n",
      "\u001b[32m\u001b[1m  Updating\u001b[22m\u001b[39m `~/.julia/environments/v1.0/Manifest.toml`\n",
      " \u001b[90m [dc8bdbbb]\u001b[39m\u001b[92m + CustomUnitRanges v0.2.0\u001b[39m\n",
      " \u001b[90m [4f61f5a4]\u001b[39m\u001b[92m + FFTViews v0.3.0\u001b[39m\n"
     ]
    },
    {
     "name": "stderr",
     "output_type": "stream",
     "text": [
      "┌ Info: Precompiling FFTViews [4f61f5a4-77b1-5117-aa51-3ab5ef4ef0cd]\n",
      "└ @ Base loading.jl:1192\n"
     ]
    }
   ],
   "source": [
    "#Pkg.add(\"Optim\")\n",
    "#Pkg.add(\"PyPlot\")\n",
    "#Pkg.add(\"FFTW\")\n",
    "\n",
    "using Pkg\n",
    "using Optim\n",
    "using PyPlot\n",
    "using LinearAlgebra\n",
    "using FFTW"
   ]
  },
  {
   "cell_type": "code",
   "execution_count": 3,
   "metadata": {},
   "outputs": [
    {
     "name": "stdout",
     "output_type": "stream",
     "text": [
      "[1.0, 1.5, 2.0, 1.5]"
     ]
    }
   ],
   "source": [
    "function ma(x,l)\n",
    "    n = length(x)\n",
    "    h = zeros(n,n)\n",
    "    for i=1:n\n",
    "        for j=1:n\n",
    "            if (j < i + l) & (j >= i)\n",
    "                h[i,j] = 1/l\n",
    "            end\n",
    "            \n",
    "            if ( n < i + l ) & ( ( mod(i+l,n) > j ) | (i+l == 2*n) ) \n",
    "                h[i,j] = 1/l\n",
    "            end\n",
    "        end\n",
    "    end\n",
    "    return h*x\n",
    "end\n",
    "\n",
    "\n",
    "X = [1, 1, 2, 2]\n",
    "L = 2\n",
    "print(ma(X,L))"
   ]
  },
  {
   "cell_type": "code",
   "execution_count": 21,
   "metadata": {},
   "outputs": [
    {
     "ename": "MethodError",
     "evalue": "MethodError: no method matching r2r(::Array{Int64,1})\nClosest candidates are:\n  r2r(::AbstractArray{#s28,N} where N where #s28<:Real, !Matched::Any) at /home/erichschulman/.julia/packages/FFTW/MJ7kl/src/fft.jl:757\n  r2r(::AbstractArray{#s27,N} where N where #s27<:Real, !Matched::Any, !Matched::Any) at /home/erichschulman/.julia/packages/FFTW/MJ7kl/src/fft.jl:757\n  r2r(!Matched::AbstractArray{#s31,N} where N where #s31<:Union{Complex{Float32}, Complex{Float64}, Float32, Float64}, !Matched::Any) at /home/erichschulman/.julia/packages/FFTW/MJ7kl/src/fft.jl:754\n  ...",
     "output_type": "error",
     "traceback": [
      "MethodError: no method matching r2r(::Array{Int64,1})\nClosest candidates are:\n  r2r(::AbstractArray{#s28,N} where N where #s28<:Real, !Matched::Any) at /home/erichschulman/.julia/packages/FFTW/MJ7kl/src/fft.jl:757\n  r2r(::AbstractArray{#s27,N} where N where #s27<:Real, !Matched::Any, !Matched::Any) at /home/erichschulman/.julia/packages/FFTW/MJ7kl/src/fft.jl:757\n  r2r(!Matched::AbstractArray{#s31,N} where N where #s31<:Union{Complex{Float32}, Complex{Float64}, Float32, Float64}, !Matched::Any) at /home/erichschulman/.julia/packages/FFTW/MJ7kl/src/fft.jl:754\n  ...",
      "",
      "Stacktrace:",
      " [1] top-level scope at In[21]:2"
     ]
    }
   ],
   "source": [
    "X = [1, 1, 2, 2]\n",
    "FFTW.r2r(X)\n",
    "a = rand(8)"
   ]
  },
  {
   "cell_type": "code",
   "execution_count": 4,
   "metadata": {},
   "outputs": [
    {
     "name": "stdout",
     "output_type": "stream",
     "text": [
      "[0.695226, 0.625048, 0.499877]\n",
      "[1.0, 0.695226, 0.43455]\n",
      "[0.695226, 0.625048, 0.499877]\n"
     ]
    }
   ],
   "source": [
    "function no_win(p,g)\n",
    "    l = length(p)\n",
    "    gs = reverse(g(p))\n",
    "    result = ones(l)\n",
    "    for i = 2:l\n",
    "        for j=i:l\n",
    "            result[i-1] = result[i-1]*gs[j]\n",
    "        end\n",
    "    end\n",
    "    return reverse(result)\n",
    "end\n",
    "\n",
    "\n",
    "function create_obj(u,g)\n",
    "    obj(p) = -1*u(p,g)\n",
    "    return obj\n",
    "end\n",
    "\n",
    "\n",
    "f1(p) = clamp!(p,0, 1)\n",
    "u1(p,g) = sum(p.*(ones(size(p)) - g(p)).*no_win(p,g))\n",
    "\n",
    "P = [.5,.5,.5]\n",
    "res = optimize(create_obj(u1,f1),[.5,.5,.5])\n",
    "\n",
    "println(res.minimizer)\n",
    "println(no_win(res.minimizer,f1))\n",
    "println(f1(res.minimizer))"
   ]
  },
  {
   "cell_type": "code",
   "execution_count": 18,
   "metadata": {},
   "outputs": [
    {
     "data": {
      "image/png": "[encoded data removed]",
      "text/plain": [
       "Figure(PyObject <Figure size 640x480 with 1 Axes>)"
      ]
     },
     "metadata": {},
     "output_type": "display_data"
    },
    {
     "name": "stdout",
     "output_type": "stream",
     "text": [
      "0.401625"
     ]
    }
   ],
   "source": [
    "function create_plot(n,l,u,g)\n",
    "    p0 = .5*ones(n)\n",
    "    for i=1:l\n",
    "        obj(p) = create_obj(u,g)(p)\n",
    "        obj_avg(p) = obj(ma(p,i))\n",
    "        res = optimize(obj_avg,p0)\n",
    "        ps = ma(res.minimizer,i)\n",
    "        xs = collect(1:length(ps))\n",
    "        plot(xs, ps, label=\"Filter $(i)\")\n",
    "    end\n",
    "    legend()\n",
    "    show()\n",
    "end\n",
    "\n",
    "BETA = .9\n",
    "f1(p) = clamp!(p,0, 1)\n",
    "u1(p,g) = p.*(ones(size(p)) - g(p)).*no_win(p,g)\n",
    "u2(p,g) = sum((BETA*ones(length(p))).^collect(1:length(p)) .*u1(p,g))\n",
    "print(u2(P,f1))\n",
    "create_plot(11,5,u2,f1)"
   ]
  },
  {
   "cell_type": "code",
   "execution_count": 6,
   "metadata": {},
   "outputs": [
    {
     "name": "stdout",
     "output_type": "stream",
     "text": [
      "[0.695327, 0.625027, 0.499949]\n",
      "-1.4503784124488444\n",
      "[0.695327, 0.898896, 0.799884]\n",
      "[0.695327, 0.625027, 0.499949]\n"
     ]
    }
   ],
   "source": [
    "function update_beliefs(p,g)\n",
    "    l = length(p)\n",
    "    gs = g(p)\n",
    "    result = gs[:]\n",
    "    for i = 2:l\n",
    "        result[i] = Int( p[i] < minimum(p[1:i-1]) )*result[i]/gs[i-1]\n",
    "    end\n",
    "    return result[:]\n",
    "end\n",
    "\n",
    "\n",
    "P = [.7, .6, .5]\n",
    "\n",
    "function create_obj(u,g)\n",
    "    obj(p) = -1*u(p,g)\n",
    "    return obj\n",
    "end\n",
    "\n",
    "\n",
    "\n",
    "f1(p) = clamp!(p,0, 1)\n",
    "\n",
    "u3(p,g) = p .*(ones(size(p))- update_beliefs(p,g))\n",
    "\n",
    "BETA = 1\n",
    "\n",
    "u4(p,g) = sum((BETA*ones(length(p))).^collect(1:length(p)) .*u2(p,g))\n",
    "\n",
    "obj2(p) = create_obj(u4,f1)(p)\n",
    "\n",
    "res2 = optimize(create_obj(u2,f1),[.5,.4,.3])\n",
    "println(res2.minimizer)\n",
    "println(obj2(res2.minimizer))\n",
    "println(update_beliefs(res2.minimizer,f1))\n",
    "println(f1(res2.minimizer))"
   ]
  },
  {
   "cell_type": "code",
   "execution_count": null,
   "metadata": {},
   "outputs": [],
   "source": []
  },
  {
   "cell_type": "code",
   "execution_count": null,
   "metadata": {},
   "outputs": [],
   "source": []
  }
 ],
 "metadata": {
  "kernelspec": {
   "display_name": "Julia 1.0.4",
   "language": "julia",
   "name": "julia-1.0"
  },
  "language_info": {
   "file_extension": ".jl",
   "mimetype": "application/julia",
   "name": "julia",
   "version": "1.0.4"
  }
 },
 "nbformat": 4,
 "nbformat_minor": 2
}
